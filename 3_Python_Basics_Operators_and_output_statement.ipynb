{
  "nbformat": 4,
  "nbformat_minor": 0,
  "metadata": {
    "colab": {
      "name": "3_Python_Basics_Operators_and_output_statement.ipynb",
      "provenance": [],
      "include_colab_link": true
    },
    "kernelspec": {
      "name": "python3",
      "display_name": "Python 3"
    },
    "language_info": {
      "name": "python"
    }
  },
  "cells": [
    {
      "cell_type": "markdown",
      "metadata": {
        "id": "view-in-github",
        "colab_type": "text"
      },
      "source": [
        "<a href=\"https://colab.research.google.com/github/sushily1997/Python-Basics/blob/main/3_Python_Basics_Operators_and_output_statement.ipynb\" target=\"_parent\"><img src=\"https://colab.research.google.com/assets/colab-badge.svg\" alt=\"Open In Colab\"/></a>"
      ]
    },
    {
      "cell_type": "code",
      "source": [
        "#𝗢𝗽𝗲𝗿𝗮𝘁𝗼𝗿𝘀\n"
      ],
      "metadata": {
        "id": "B5wM1cbY9Had"
      },
      "execution_count": 51,
      "outputs": []
    },
    {
      "cell_type": "code",
      "source": [
        "#1) 𝗔𝗿𝗶𝘁𝗵𝗺𝗲𝘁𝗶𝗰 𝗼𝗽𝗲𝗿𝗮𝘁𝗼𝗿𝘀:+,-,*,/,%,//,**"
      ],
      "metadata": {
        "id": "IuCTerXF75BA"
      },
      "execution_count": 49,
      "outputs": []
    },
    {
      "cell_type": "code",
      "source": [
        "a=34\n",
        "b=8\n",
        "print('a+b=',a+b)\n",
        "print('a-b=',a-b)\n",
        "print('a*b=',a*b)\n",
        "print('a/b=',a/b)\n",
        "print('a//b=',a//b)\n",
        "print('a%b=',a%b)\n",
        "print('a**b=',a**b)"
      ],
      "metadata": {
        "colab": {
          "base_uri": "https://localhost:8080/"
        },
        "id": "RgpGjwVeRNHl",
        "outputId": "3096b8b6-c2a9-4602-b8ab-52b414e23118"
      },
      "execution_count": 1,
      "outputs": [
        {
          "output_type": "stream",
          "name": "stdout",
          "text": [
            "a+b= 42\n",
            "a-b= 26\n",
            "a*b= 272\n",
            "a/b= 4.25\n",
            "a//b= 4\n",
            "a%b= 2\n",
            "a**b= 1785793904896\n"
          ]
        }
      ]
    },
    {
      "cell_type": "code",
      "source": [
        "a=21\n",
        "b=4\n",
        "print('a+b=',a+b)\n",
        "print('a-b=',a-b)\n",
        "print('a*b=',a*b)\n",
        "print('a/b=',a/b)\n",
        "print('a//b=',a//b)\n",
        "print('a%b=',a%b)\n",
        "print('a**b=',a**b)"
      ],
      "metadata": {
        "id": "7nIKQNoDzuek",
        "outputId": "d1ae1bc6-0571-4c27-c497-fb58dccec852",
        "colab": {
          "base_uri": "https://localhost:8080/"
        }
      },
      "execution_count": 3,
      "outputs": [
        {
          "output_type": "stream",
          "name": "stdout",
          "text": [
            "a+b= 25\n",
            "a-b= 17\n",
            "a*b= 84\n",
            "a/b= 5.25\n",
            "a//b= 5\n",
            "a%b= 1\n",
            "a**b= 194481\n"
          ]
        }
      ]
    },
    {
      "cell_type": "code",
      "source": [
        "#𝗥𝗲𝗹𝗮𝘁𝗶𝗼𝗻𝗮𝗹 𝗼𝗽𝗲𝗿𝗮𝘁𝗼𝗿𝘀:>,>=,<,<="
      ],
      "metadata": {
        "id": "C5gdXcxJ92jl"
      },
      "execution_count": 52,
      "outputs": []
    },
    {
      "cell_type": "code",
      "source": [
        "a=34\n",
        "b=42\n",
        "print(\"a > b is \",a>b)\n",
        "print(\"a >= b is \",a>=b)\n",
        "print(\"a < b is \",a<b)\n",
        "print(\"a <= b is \",a<=b)\n",
        "\n",
        "a > b #is False\n",
        "a >= b #is False\n",
        "a < b #is True\n",
        "a <= b #is True"
      ],
      "metadata": {
        "colab": {
          "base_uri": "https://localhost:8080/"
        },
        "id": "ofDbSz4iSUYL",
        "outputId": "960aaaca-ed21-43d7-c3ae-d7e540229159"
      },
      "execution_count": 5,
      "outputs": [
        {
          "output_type": "stream",
          "name": "stdout",
          "text": [
            "a > b is  False\n",
            "a >= b is  False\n",
            "a < b is  True\n",
            "a <= b is  True\n"
          ]
        },
        {
          "output_type": "execute_result",
          "data": {
            "text/plain": [
              "True"
            ]
          },
          "metadata": {},
          "execution_count": 5
        }
      ]
    },
    {
      "cell_type": "code",
      "source": [
        "a=+41\n",
        "b=-56\n",
        "print(\"a>b is \",a>b)\n",
        "print(\"a>=b is \",a>=b)\n",
        "print(\"a<b is \",a<b)\n",
        "print(\"a<=bis \",a<=b)\n"
      ],
      "metadata": {
        "id": "5kj63-vM1Ba9",
        "outputId": "394e03f9-a04f-46cc-a925-87854cdb15b0",
        "colab": {
          "base_uri": "https://localhost:8080/"
        }
      },
      "execution_count": 6,
      "outputs": [
        {
          "output_type": "stream",
          "name": "stdout",
          "text": [
            "a>b is  True\n",
            "a>=b is  True\n",
            "a<b is  False\n",
            "a<=bis  False\n"
          ]
        }
      ]
    },
    {
      "cell_type": "code",
      "source": [
        "#3) 𝗘𝗾𝘂𝗮𝗹𝗶𝘁𝘆 𝗼𝗽𝗲𝗿𝗮𝘁𝗶𝗼𝗻𝘀:==,!="
      ],
      "metadata": {
        "id": "2EzDjuWF-ikl"
      },
      "execution_count": 53,
      "outputs": []
    },
    {
      "cell_type": "code",
      "source": [
        "-20==10 #False"
      ],
      "metadata": {
        "colab": {
          "base_uri": "https://localhost:8080/"
        },
        "id": "ULmGA6mWS_sF",
        "outputId": "54cf374f-7fe5-4f7d-cdb8-83f86824c172"
      },
      "execution_count": 7,
      "outputs": [
        {
          "output_type": "execute_result",
          "data": {
            "text/plain": [
              "False"
            ]
          },
          "metadata": {},
          "execution_count": 7
        }
      ]
    },
    {
      "cell_type": "code",
      "source": [
        "10==10"
      ],
      "metadata": {
        "id": "O0xZWuWt2MMy",
        "outputId": "49856b45-5ead-4a09-c29e-438d3918c8f8",
        "colab": {
          "base_uri": "https://localhost:8080/"
        }
      },
      "execution_count": 10,
      "outputs": [
        {
          "output_type": "execute_result",
          "data": {
            "text/plain": [
              "True"
            ]
          },
          "metadata": {},
          "execution_count": 10
        }
      ]
    },
    {
      "cell_type": "code",
      "source": [
        "10!=10"
      ],
      "metadata": {
        "id": "hgECuQp12MAn",
        "outputId": "4632badc-12e0-4bb2-9d04-be39c12e91b9",
        "colab": {
          "base_uri": "https://localhost:8080/"
        }
      },
      "execution_count": 11,
      "outputs": [
        {
          "output_type": "execute_result",
          "data": {
            "text/plain": [
              "False"
            ]
          },
          "metadata": {},
          "execution_count": 11
        }
      ]
    },
    {
      "cell_type": "code",
      "source": [
        "10!= -20"
      ],
      "metadata": {
        "colab": {
          "base_uri": "https://localhost:8080/"
        },
        "id": "j4yMjMfZTXZi",
        "outputId": "3221e016-5469-4376-a304-3114471ecb9d"
      },
      "execution_count": 8,
      "outputs": [
        {
          "output_type": "execute_result",
          "data": {
            "text/plain": [
              "True"
            ]
          },
          "metadata": {},
          "execution_count": 8
        }
      ]
    },
    {
      "cell_type": "code",
      "source": [
        "0==True"
      ],
      "metadata": {
        "colab": {
          "base_uri": "https://localhost:8080/"
        },
        "id": "Y6ML0XwgTXcO",
        "outputId": "253f899d-fdbc-4a64-faaf-7bd9c2574dc9"
      },
      "execution_count": 9,
      "outputs": [
        {
          "output_type": "execute_result",
          "data": {
            "text/plain": [
              "False"
            ]
          },
          "metadata": {},
          "execution_count": 9
        }
      ]
    },
    {
      "cell_type": "code",
      "source": [
        "1==True"
      ],
      "metadata": {
        "id": "cOErF6Bp2YnJ",
        "outputId": "fef7dd99-ac06-4243-82cf-91c4d009c510",
        "colab": {
          "base_uri": "https://localhost:8080/"
        }
      },
      "execution_count": 14,
      "outputs": [
        {
          "output_type": "execute_result",
          "data": {
            "text/plain": [
              "True"
            ]
          },
          "metadata": {},
          "execution_count": 14
        }
      ]
    },
    {
      "cell_type": "code",
      "source": [
        "True==True"
      ],
      "metadata": {
        "id": "6qUxKRHN3KMj",
        "outputId": "74861524-8768-4284-c950-f9a44b021849",
        "colab": {
          "base_uri": "https://localhost:8080/"
        }
      },
      "execution_count": 15,
      "outputs": [
        {
          "output_type": "execute_result",
          "data": {
            "text/plain": [
              "True"
            ]
          },
          "metadata": {},
          "execution_count": 15
        }
      ]
    },
    {
      "cell_type": "code",
      "source": [
        "False==False"
      ],
      "metadata": {
        "colab": {
          "base_uri": "https://localhost:8080/"
        },
        "id": "O-ZcqidyTbd2",
        "outputId": "948a6d2b-43d2-45aa-f415-71dabe8a375c"
      },
      "execution_count": 17,
      "outputs": [
        {
          "output_type": "execute_result",
          "data": {
            "text/plain": [
              "True"
            ]
          },
          "metadata": {},
          "execution_count": 17
        }
      ]
    },
    {
      "cell_type": "code",
      "source": [
        "10==10==10==10 "
      ],
      "metadata": {
        "colab": {
          "base_uri": "https://localhost:8080/"
        },
        "id": "TYIgOcfETkV8",
        "outputId": "095214f6-e8de-41b9-824b-f3f09650ecfc"
      },
      "execution_count": 18,
      "outputs": [
        {
          "output_type": "execute_result",
          "data": {
            "text/plain": [
              "True"
            ]
          },
          "metadata": {},
          "execution_count": 18
        }
      ]
    },
    {
      "cell_type": "code",
      "source": [
        "20==21==10==10"
      ],
      "metadata": {
        "id": "r9u36orv3dAM",
        "outputId": "f8d2ea86-3fb6-44e0-ba44-1a70dec0d881",
        "colab": {
          "base_uri": "https://localhost:8080/"
        }
      },
      "execution_count": 19,
      "outputs": [
        {
          "output_type": "execute_result",
          "data": {
            "text/plain": [
              "False"
            ]
          },
          "metadata": {},
          "execution_count": 19
        }
      ]
    },
    {
      "cell_type": "code",
      "source": [
        "10==10==20==20"
      ],
      "metadata": {
        "id": "d_A7Miav3cpI",
        "outputId": "484d7114-69ba-4cdd-c9a7-5e58b959ed69",
        "colab": {
          "base_uri": "https://localhost:8080/"
        }
      },
      "execution_count": 20,
      "outputs": [
        {
          "output_type": "execute_result",
          "data": {
            "text/plain": [
              "False"
            ]
          },
          "metadata": {},
          "execution_count": 20
        }
      ]
    },
    {
      "cell_type": "code",
      "source": [
        "#4) 𝗟𝗼𝗴𝗶𝗰𝗮𝗹 𝗼𝗽𝗲𝗿𝗮𝘁𝗼𝗿𝘀:𝗮𝗻𝗱,𝗼𝗿,𝗻𝗼𝘁"
      ],
      "metadata": {
        "id": "RiIxBId5_H85"
      },
      "execution_count": 54,
      "outputs": []
    },
    {
      "cell_type": "code",
      "source": [
        "16 and 30"
      ],
      "metadata": {
        "colab": {
          "base_uri": "https://localhost:8080/"
        },
        "id": "xsnMVXwmToP6",
        "outputId": "a6d4ae9c-5824-4dc9-9423-1a276b163eef"
      },
      "execution_count": 23,
      "outputs": [
        {
          "output_type": "execute_result",
          "data": {
            "text/plain": [
              "30"
            ]
          },
          "metadata": {},
          "execution_count": 23
        }
      ]
    },
    {
      "cell_type": "code",
      "source": [
        "4 & 5"
      ],
      "metadata": {
        "id": "aJHn32fq4H7w",
        "outputId": "2be5a80e-3502-4c39-fe64-fd70975d91be",
        "colab": {
          "base_uri": "https://localhost:8080/"
        }
      },
      "execution_count": 22,
      "outputs": [
        {
          "output_type": "execute_result",
          "data": {
            "text/plain": [
              "4"
            ]
          },
          "metadata": {},
          "execution_count": 22
        }
      ]
    },
    {
      "cell_type": "code",
      "source": [
        "4 and 5"
      ],
      "metadata": {
        "id": "mnhhPV3V4A-Z",
        "outputId": "1186444c-780c-4607-b18e-f8b4d4d8f93f",
        "colab": {
          "base_uri": "https://localhost:8080/"
        }
      },
      "execution_count": 25,
      "outputs": [
        {
          "output_type": "execute_result",
          "data": {
            "text/plain": [
              "5"
            ]
          },
          "metadata": {},
          "execution_count": 25
        }
      ]
    },
    {
      "cell_type": "code",
      "source": [
        "0 and 20"
      ],
      "metadata": {
        "colab": {
          "base_uri": "https://localhost:8080/"
        },
        "id": "AaZ7sLM8UeFn",
        "outputId": "f2dd2b26-a9da-4841-8da8-521fc25f3a3b"
      },
      "execution_count": 26,
      "outputs": [
        {
          "output_type": "execute_result",
          "data": {
            "text/plain": [
              "0"
            ]
          },
          "metadata": {},
          "execution_count": 26
        }
      ]
    },
    {
      "cell_type": "code",
      "source": [
        "20 and 0"
      ],
      "metadata": {
        "id": "WzHsI0kl5L64",
        "outputId": "3750d352-24f3-4f02-e8b7-1f05318ea623",
        "colab": {
          "base_uri": "https://localhost:8080/"
        }
      },
      "execution_count": 27,
      "outputs": [
        {
          "output_type": "execute_result",
          "data": {
            "text/plain": [
              "0"
            ]
          },
          "metadata": {},
          "execution_count": 27
        }
      ]
    },
    {
      "cell_type": "code",
      "source": [
        "#x or y:\n",
        "#If x evaluates to True then result is x otherwise result is y\n",
        "print(15 or 25) # 15\n",
        "0 or 25 # 25"
      ],
      "metadata": {
        "colab": {
          "base_uri": "https://localhost:8080/"
        },
        "id": "ww__nJIOUglP",
        "outputId": "94a0dc57-a4d5-4813-da2e-e80fbc63fc6a"
      },
      "execution_count": 30,
      "outputs": [
        {
          "output_type": "stream",
          "name": "stdout",
          "text": [
            "15\n"
          ]
        },
        {
          "output_type": "execute_result",
          "data": {
            "text/plain": [
              "25"
            ]
          },
          "metadata": {},
          "execution_count": 30
        }
      ]
    },
    {
      "cell_type": "code",
      "source": [
        "print(0 or 1)"
      ],
      "metadata": {
        "id": "hdtuQsZg6HOS",
        "outputId": "e79c0848-a72a-48ef-b7c4-a5403d0e08e5",
        "colab": {
          "base_uri": "https://localhost:8080/"
        }
      },
      "execution_count": 31,
      "outputs": [
        {
          "output_type": "stream",
          "name": "stdout",
          "text": [
            "1\n"
          ]
        }
      ]
    },
    {
      "cell_type": "code",
      "source": [
        "print (0 or 3+(3-2))"
      ],
      "metadata": {
        "id": "SarTiBb-6OWg",
        "outputId": "27dc244a-82b8-48f8-f69e-d060c0acd6e0",
        "colab": {
          "base_uri": "https://localhost:8080/"
        }
      },
      "execution_count": 43,
      "outputs": [
        {
          "output_type": "stream",
          "name": "stdout",
          "text": [
            "4\n"
          ]
        }
      ]
    },
    {
      "cell_type": "code",
      "source": [
        "print (20 or 20+3)"
      ],
      "metadata": {
        "id": "1J5q9WgS6avI",
        "outputId": "2fd61060-04e3-4303-f917-d7f60e119581",
        "colab": {
          "base_uri": "https://localhost:8080/"
        }
      },
      "execution_count": 34,
      "outputs": [
        {
          "output_type": "stream",
          "name": "stdout",
          "text": [
            "20\n"
          ]
        }
      ]
    },
    {
      "cell_type": "code",
      "source": [
        "print (20*6 or 23)"
      ],
      "metadata": {
        "id": "XAy2kBb26ahc",
        "outputId": "fef49165-6af1-49c9-ba2f-e8109b920607",
        "colab": {
          "base_uri": "https://localhost:8080/"
        }
      },
      "execution_count": 44,
      "outputs": [
        {
          "output_type": "stream",
          "name": "stdout",
          "text": [
            "120\n"
          ]
        }
      ]
    },
    {
      "cell_type": "code",
      "source": [
        "print (0 or 0.1)"
      ],
      "metadata": {
        "id": "muSdrdiM61oM",
        "outputId": "6b7be918-a2ee-41c4-9e3f-2ae35250ea5e",
        "colab": {
          "base_uri": "https://localhost:8080/"
        }
      },
      "execution_count": 36,
      "outputs": [
        {
          "output_type": "stream",
          "name": "stdout",
          "text": [
            "0.1\n"
          ]
        }
      ]
    },
    {
      "cell_type": "code",
      "source": [
        "#not x:\n",
        "#If x is evalutates to False then result is True otherwise False\n",
        "print(not 10) # False\n",
        "not 0 # True"
      ],
      "metadata": {
        "colab": {
          "base_uri": "https://localhost:8080/"
        },
        "id": "PjKwyUC7U5Y8",
        "outputId": "f8399101-723f-4a68-a254-992665def8e1"
      },
      "execution_count": 55,
      "outputs": [
        {
          "output_type": "stream",
          "name": "stdout",
          "text": [
            "False\n"
          ]
        },
        {
          "output_type": "execute_result",
          "data": {
            "text/plain": [
              "True"
            ]
          },
          "metadata": {},
          "execution_count": 55
        }
      ]
    },
    {
      "cell_type": "code",
      "source": [
        "# 𝗕𝗶𝘁𝘄𝗶𝘀𝗲 𝗮𝗻𝗱 𝘀𝗵𝗶𝗳𝘁 𝗼𝗽𝗲𝗿𝗮𝘁𝗼𝗿𝘀"
      ],
      "metadata": {
        "id": "Bf9rrKTtBBFZ"
      },
      "execution_count": 57,
      "outputs": []
    },
    {
      "cell_type": "code",
      "source": [
        "#6)𝗕𝗶𝘁𝘄𝗶𝘀𝗲 𝗼𝗽𝗲𝗿𝗮𝘁𝗼𝗿𝘀:"
      ],
      "metadata": {
        "id": "pdi2hPsDBAfA"
      },
      "execution_count": 58,
      "outputs": []
    },
    {
      "cell_type": "code",
      "source": [
        "# Complement Operator\n",
        "~45 #Formula ~= -45-1"
      ],
      "metadata": {
        "colab": {
          "base_uri": "https://localhost:8080/"
        },
        "id": "eNmIS8RCE4eA",
        "outputId": "907dd4f2-4767-4fee-b0c1-f99508260506"
      },
      "execution_count": 62,
      "outputs": [
        {
          "output_type": "execute_result",
          "data": {
            "text/plain": [
              "-46"
            ]
          },
          "metadata": {},
          "execution_count": 62
        }
      ]
    },
    {
      "cell_type": "code",
      "source": [
        "~7 #Formula ~=-7+8"
      ],
      "metadata": {
        "id": "CrOCKS52CYbQ",
        "outputId": "fc93595b-5e59-4d70-c2c9-109b44ac5572",
        "colab": {
          "base_uri": "https://localhost:8080/"
        }
      },
      "execution_count": 64,
      "outputs": [
        {
          "output_type": "execute_result",
          "data": {
            "text/plain": [
              "-8"
            ]
          },
          "metadata": {},
          "execution_count": 64
        }
      ]
    },
    {
      "cell_type": "code",
      "source": [
        "#Left shift"
      ],
      "metadata": {
        "id": "wi-GDWfyEcZw"
      },
      "execution_count": 71,
      "outputs": []
    },
    {
      "cell_type": "code",
      "source": [
        "a=80 # 0001 0100 #two zeros at right end got discarded --> 0000 0101\n",
        "a>>6"
      ],
      "metadata": {
        "colab": {
          "base_uri": "https://localhost:8080/"
        },
        "id": "NQxDVulo_BEE",
        "outputId": "d7f66c3d-f0cf-4e4f-8d01-0017ba64eace"
      },
      "execution_count": 69,
      "outputs": [
        {
          "output_type": "execute_result",
          "data": {
            "text/plain": [
              "1"
            ]
          },
          "metadata": {},
          "execution_count": 69
        }
      ]
    },
    {
      "cell_type": "code",
      "source": [
        "# Bitwise \"and\" operator\n",
        "a=60\n",
        "b= 7\n",
        "a&b"
      ],
      "metadata": {
        "colab": {
          "base_uri": "https://localhost:8080/"
        },
        "id": "hxoE_msbCZ9S",
        "outputId": "bb87c282-905f-4003-d5fa-75cde9113208"
      },
      "execution_count": 78,
      "outputs": [
        {
          "output_type": "execute_result",
          "data": {
            "text/plain": [
              "4"
            ]
          },
          "metadata": {},
          "execution_count": 78
        }
      ]
    },
    {
      "cell_type": "code",
      "source": [
        "# bitwise or operator\n",
        "a=60 \n",
        "b=7\n",
        "a|b"
      ],
      "metadata": {
        "colab": {
          "base_uri": "https://localhost:8080/"
        },
        "id": "XY293NLZCkhV",
        "outputId": "98960b39-6398-4de3-bd7b-92cefb64a43c"
      },
      "execution_count": 79,
      "outputs": [
        {
          "output_type": "execute_result",
          "data": {
            "text/plain": [
              "63"
            ]
          },
          "metadata": {},
          "execution_count": 79
        }
      ]
    },
    {
      "cell_type": "code",
      "source": [
        "# bitwise XOR \"^\" Operator\n",
        "a=88\n",
        "b= 2\n",
        "a^b"
      ],
      "metadata": {
        "colab": {
          "base_uri": "https://localhost:8080/"
        },
        "id": "k99NWDWbCkoD",
        "outputId": "b9d34773-4764-4626-f24b-c0482d655594"
      },
      "execution_count": 80,
      "outputs": [
        {
          "output_type": "execute_result",
          "data": {
            "text/plain": [
              "90"
            ]
          },
          "metadata": {},
          "execution_count": 80
        }
      ]
    },
    {
      "cell_type": "code",
      "source": [
        "#7) 𝗔𝘀𝘀𝗶𝗴𝗻𝗺𝗲𝗻𝘁 𝗼𝗽𝗲𝗿𝗮𝘁𝗼𝗿𝘀:+=,-=,*=,/=,%=,//=,××=,&=,|=,^=,>>=,<<="
      ],
      "metadata": {
        "id": "PVYZia49F9jM"
      },
      "execution_count": 81,
      "outputs": []
    },
    {
      "cell_type": "code",
      "source": [
        "x=5\n",
        "x+=45\n",
        "x-=35\n",
        "x*=23\n",
        "print(x) # 345"
      ],
      "metadata": {
        "colab": {
          "base_uri": "https://localhost:8080/"
        },
        "id": "J3K6AT1uVDc5",
        "outputId": "cd9e2cc6-dfa1-4fcd-9225-85beef3e498a"
      },
      "execution_count": 84,
      "outputs": [
        {
          "output_type": "stream",
          "name": "stdout",
          "text": [
            "345\n"
          ]
        }
      ]
    },
    {
      "cell_type": "code",
      "source": [
        "#8) 𝗧𝗲𝗿𝗻𝗮𝗿𝘆 𝗼𝗽𝗲𝗿𝗮𝘁𝗼𝗿 𝗢𝗥 𝗖𝗼𝗻𝗱𝗶𝘁𝗼𝗻𝗮𝗹 𝗼𝗽𝗲𝗿𝗮𝘁𝗼𝗿"
      ],
      "metadata": {
        "id": "d024iapfHUyy"
      },
      "execution_count": 85,
      "outputs": []
    },
    {
      "cell_type": "code",
      "source": [
        "# Eg 1:\n",
        "\n",
        "a,b=45,20\n",
        "\n",
        "x=30 if a<b else 40\n",
        "print(x) "
      ],
      "metadata": {
        "colab": {
          "base_uri": "https://localhost:8080/"
        },
        "id": "XIPVNmYMX3ii",
        "outputId": "16d00834-0245-4bd4-9fd2-bc848b915226"
      },
      "execution_count": 88,
      "outputs": [
        {
          "output_type": "stream",
          "name": "stdout",
          "text": [
            "40\n"
          ]
        }
      ]
    },
    {
      "cell_type": "code",
      "source": [
        "# Program for Minimum of 3 Numbers\n",
        "a=int(input(\"Enter First Number:\"))\n",
        "b=int(input(\"Enter Second Number:\"))\n",
        "c=int(input(\"Enter Third Number:\"))\n",
        "min=a if a<b and a<c else b if b<c else c\n",
        "print(\"Minimum Value:\",min) "
      ],
      "metadata": {
        "colab": {
          "base_uri": "https://localhost:8080/"
        },
        "id": "amlgtaNGYRDD",
        "outputId": "f344c602-7aba-4102-9e5f-806766a47e48"
      },
      "execution_count": 92,
      "outputs": [
        {
          "output_type": "stream",
          "name": "stdout",
          "text": [
            "Enter First Number:56\n",
            "Enter Second Number:34\n",
            "Enter Third Number:69\n",
            "Minimum Value: 34\n"
          ]
        }
      ]
    },
    {
      "cell_type": "code",
      "source": [
        "#Homework"
      ],
      "metadata": {
        "id": "9DHim8SMSmUz"
      },
      "execution_count": 116,
      "outputs": []
    },
    {
      "cell_type": "code",
      "source": [
        "a=int(input(\"Enter First Number:\"))\n",
        "b=int(input(\"Enter Second Number:\"))\n",
        "c=int(input(\"Enter Third Number:\"))\n",
        "max=c if a>b and a>c else a if b>a else b\n",
        "print(\"Maximum Value:\",max)"
      ],
      "metadata": {
        "id": "l0pXYQ3pI1AX",
        "outputId": "bde1f780-d876-4189-e9a1-2bb8175aecca",
        "colab": {
          "base_uri": "https://localhost:8080/"
        }
      },
      "execution_count": 114,
      "outputs": [
        {
          "output_type": "stream",
          "name": "stdout",
          "text": [
            "Enter First Number:23\n",
            "Enter Second Number:48\n",
            "Enter Third Number:10\n",
            "Maximum Value: 23\n"
          ]
        }
      ]
    },
    {
      "cell_type": "code",
      "source": [
        "#𝗜𝗱𝗲𝗻𝘁𝗶𝘁𝘆 𝗼𝗽𝗲𝗿𝗮𝘁𝗼𝗿𝘀: 𝗜𝘀 , 𝗶𝘀 𝗻𝗼𝘁"
      ],
      "metadata": {
        "id": "_5vTJP5dI0hc"
      },
      "execution_count": 101,
      "outputs": []
    },
    {
      "cell_type": "code",
      "source": [
        "# Eg:\n",
        "a=10\n",
        "b=10\n",
        "print(a is b) # True \n",
        "print(a is not b)"
      ],
      "metadata": {
        "colab": {
          "base_uri": "https://localhost:8080/"
        },
        "id": "_mOOr-9zYgdh",
        "outputId": "ab370d89-cd46-44e0-ab16-2f8e22330698"
      },
      "execution_count": 102,
      "outputs": [
        {
          "output_type": "stream",
          "name": "stdout",
          "text": [
            "True\n",
            "False\n"
          ]
        }
      ]
    },
    {
      "cell_type": "code",
      "source": [
        "#2)𝗠𝗲𝗺𝗯𝗲𝗿𝘀𝗵𝗶𝗽 𝗼𝗽𝗲𝗿𝗮𝘁𝗼𝗿𝘀"
      ],
      "metadata": {
        "id": "OWytlVchP1ZP"
      },
      "execution_count": 103,
      "outputs": []
    },
    {
      "cell_type": "code",
      "source": [
        "# Eg:\n",
        "x=\"hello learning Python is very easy!!!\"\n",
        "print('h' in x)# True\n",
        "print('d' in x) #False\n",
        "print('d' not in x) #True\n",
        "print('Python' in x) #True\n",
        "print('z' in x)"
      ],
      "metadata": {
        "colab": {
          "base_uri": "https://localhost:8080/"
        },
        "id": "dcpGRS0FZxQu",
        "outputId": "bb8f2871-85cf-4ac4-bca7-aa6aa0e90efa"
      },
      "execution_count": 95,
      "outputs": [
        {
          "output_type": "stream",
          "name": "stdout",
          "text": [
            "True\n",
            "False\n",
            "True\n",
            "True\n",
            "False\n"
          ]
        }
      ]
    },
    {
      "cell_type": "code",
      "source": [
        "#𝗠𝗮𝘁𝗵 𝗺𝗼𝗱𝘂𝗹𝗹𝗲"
      ],
      "metadata": {
        "id": "iT3Q2IkbQTDT"
      },
      "execution_count": 104,
      "outputs": []
    },
    {
      "cell_type": "code",
      "source": [
        "#1)𝗜𝗺𝗽𝗼𝗿𝘁 𝗺𝗮𝘁𝗵\n",
        "#2)𝗽𝗿𝗶𝗻𝘁(𝗺𝗮𝘁𝗵.𝘀𝗾𝗿𝘁(16))\n",
        "#3)𝗽𝗿𝗶𝗻𝘁(𝗺𝗮𝘁𝗵.𝗽𝗶)"
      ],
      "metadata": {
        "id": "gpO-zVBFQSib"
      },
      "execution_count": 105,
      "outputs": []
    },
    {
      "cell_type": "code",
      "source": [
        "import math\n",
        "math.sqrt(13)"
      ],
      "metadata": {
        "colab": {
          "base_uri": "https://localhost:8080/"
        },
        "id": "aubE3gIsaUH6",
        "outputId": "3e012ca9-07c9-4da4-8ab8-ce8c4f585b9f"
      },
      "execution_count": 96,
      "outputs": [
        {
          "output_type": "execute_result",
          "data": {
            "text/plain": [
              "3.605551275463989"
            ]
          },
          "metadata": {},
          "execution_count": 96
        }
      ]
    },
    {
      "cell_type": "code",
      "source": [
        "# Other important functions in math module\n",
        "from math import ceil, floor, factorial, trunc, gcd, sin,cos,tan\n",
        "\n",
        "print(ceil(80.35))\n",
        "print(floor(80.85))\n",
        "print(pow(30,40))\n",
        "print(factorial(2))\n",
        "print(trunc(20.55))\n",
        "print(gcd(8,40))\n",
        "print(sin(30))\n",
        "print(cos(30))\n",
        "print(tan(30))"
      ],
      "metadata": {
        "colab": {
          "base_uri": "https://localhost:8080/"
        },
        "id": "jnMvgCNpbuit",
        "outputId": "68161285-b974-4ab3-c7f1-f312b9c282b6"
      },
      "execution_count": 97,
      "outputs": [
        {
          "output_type": "stream",
          "name": "stdout",
          "text": [
            "81\n",
            "80\n",
            "121576654590569288010000000000000000000000000000000000000000\n",
            "2\n",
            "20\n",
            "8\n",
            "-0.9880316240928618\n",
            "0.15425144988758405\n",
            "-6.405331196646276\n"
          ]
        }
      ]
    },
    {
      "cell_type": "code",
      "source": [
        "# Important variables\n",
        "'''pi = 3.14\n",
        "   inf = infinity\n",
        "   nan = not a number'''"
      ],
      "metadata": {
        "id": "7Jb6K5kNcV6C",
        "colab": {
          "base_uri": "https://localhost:8080/",
          "height": 35
        },
        "outputId": "42ee416b-ef54-4774-f46a-664d68b9404e"
      },
      "execution_count": 98,
      "outputs": [
        {
          "output_type": "execute_result",
          "data": {
            "text/plain": [
              "'pi = 3.14\\n   inf = infinity\\n   nan = not a number'"
            ],
            "application/vnd.google.colaboratory.intrinsic+json": {
              "type": "string"
            }
          },
          "metadata": {},
          "execution_count": 98
        }
      ]
    },
    {
      "cell_type": "code",
      "source": [
        "#𝗛𝗼𝗺𝗲𝘄𝗼𝗿𝗸\n",
        "#𝘄𝗿𝗶𝘁𝗲 𝗮 𝗽𝘆𝘁𝗵𝗼𝗻 𝗽𝗿𝗼𝗴𝗿𝗮𝗺 𝘁𝗼 𝗳𝗶𝗻𝗱 𝗮𝗿𝗲𝗮 𝗼𝗳 𝗰𝗶𝗿𝗰𝗹𝗲"
      ],
      "metadata": {
        "id": "pr3iC1BjVgAq"
      },
      "execution_count": 126,
      "outputs": []
    },
    {
      "cell_type": "code",
      "source": [
        "PI = 3.14\n",
        "r = float(input(\"Enter the radius of a circle:\"))\n",
        "area = PI * r * r\n",
        "print(\"Area of a circle = %.2f\" %area)"
      ],
      "metadata": {
        "id": "lF_yuVdxWFbW",
        "outputId": "27d79ca5-46f7-4455-c735-8b7baf397e2e",
        "colab": {
          "base_uri": "https://localhost:8080/"
        }
      },
      "execution_count": 127,
      "outputs": [
        {
          "output_type": "stream",
          "name": "stdout",
          "text": [
            "Enter the radius of a circle:8\n",
            "Area of a circle = 200.96\n"
          ]
        }
      ]
    },
    {
      "cell_type": "code",
      "source": [
        "#𝗘𝘃𝗮𝗹𝘂𝗮𝘁𝗲"
      ],
      "metadata": {
        "id": "pgkmGiORQ1Jc"
      },
      "execution_count": 106,
      "outputs": []
    },
    {
      "cell_type": "code",
      "source": [
        "x = eval(\"20+40+60\")\n",
        "print(x)"
      ],
      "metadata": {
        "colab": {
          "base_uri": "https://localhost:8080/"
        },
        "id": "hUmBhBBBda2U",
        "outputId": "a91f7285-f080-408c-902d-8fd3d30157f0"
      },
      "execution_count": 107,
      "outputs": [
        {
          "output_type": "stream",
          "name": "stdout",
          "text": [
            "120\n"
          ]
        }
      ]
    },
    {
      "cell_type": "code",
      "source": [
        "#𝗢𝘂𝘁𝗽𝘂𝘁 𝗦𝘁𝗮𝘁𝗲𝗺𝗲𝗻𝘁𝘀:"
      ],
      "metadata": {
        "id": "FZYkgpeSRNdJ"
      },
      "execution_count": 108,
      "outputs": []
    },
    {
      "cell_type": "code",
      "source": [
        "#We can use escape characters\n",
        "print(\"Jay \\n maharashtra\") "
      ],
      "metadata": {
        "colab": {
          "base_uri": "https://localhost:8080/"
        },
        "id": "FSZjl69MWkiK",
        "outputId": "90dc1979-328a-47fb-94a3-559c6b3ce4e3"
      },
      "execution_count": 109,
      "outputs": [
        {
          "output_type": "stream",
          "name": "stdout",
          "text": [
            "Jay \n",
            " maharashtra\n"
          ]
        }
      ]
    },
    {
      "cell_type": "code",
      "source": [
        "#print with variable number of arguments\n",
        "a,b,c=20,25,56\n",
        "print(\"The Values are :\",a,b,c) "
      ],
      "metadata": {
        "colab": {
          "base_uri": "https://localhost:8080/"
        },
        "id": "Q3Wrgta_Y3jT",
        "outputId": "7c20b9eb-66bd-4f5c-d685-0dd311dbf46e"
      },
      "execution_count": 110,
      "outputs": [
        {
          "output_type": "stream",
          "name": "stdout",
          "text": [
            "The Values are : 20 25 56\n"
          ]
        }
      ]
    },
    {
      "cell_type": "code",
      "source": [
        "# By default output values are seperated by space.If we want we can specify seperator by using \"sep\" attribute\n",
        "a,b,c=10,20,30\n",
        "print(a,b,c,sep=',') "
      ],
      "metadata": {
        "colab": {
          "base_uri": "https://localhost:8080/"
        },
        "id": "grmdI11KZGl5",
        "outputId": "b9140c2f-ad61-4d99-8b85-66606189b408"
      },
      "execution_count": 117,
      "outputs": [
        {
          "output_type": "stream",
          "name": "stdout",
          "text": [
            "10,20,30\n"
          ]
        }
      ]
    },
    {
      "cell_type": "code",
      "source": [
        "a,b,c=24,36,45\n",
        "print(a,b,c,sep=':')"
      ],
      "metadata": {
        "id": "1qVPAMVwTuzo",
        "outputId": "5c56aeb0-6bd3-40ac-c269-c71738c7b0a9",
        "colab": {
          "base_uri": "https://localhost:8080/"
        }
      },
      "execution_count": 120,
      "outputs": [
        {
          "output_type": "stream",
          "name": "stdout",
          "text": [
            "24:36:45\n"
          ]
        }
      ]
    },
    {
      "cell_type": "code",
      "source": [
        "# If we want output in the same line with space\n",
        "print(\"Welcom\",end=' ')\n",
        "print(\"To\",end=' ')\n",
        "print(\"python\") "
      ],
      "metadata": {
        "colab": {
          "base_uri": "https://localhost:8080/"
        },
        "id": "favHPP74ZRQV",
        "outputId": "f100ef5c-886b-43fd-e9a4-25c9609991bb"
      },
      "execution_count": 121,
      "outputs": [
        {
          "output_type": "stream",
          "name": "stdout",
          "text": [
            "Welcom To python\n"
          ]
        }
      ]
    },
    {
      "cell_type": "code",
      "source": [
        "'''1) %i == int\n",
        "   2) %d == int\n",
        "   3) %f == float\n",
        "   4) %s == String type'''\n",
        "\n",
        "a=11\n",
        "b=28\n",
        "c=36\n",
        "print(\"a value is %i\" %a)\n",
        "print(\"b value is %d and c value is %d\" %(b,c))"
      ],
      "metadata": {
        "colab": {
          "base_uri": "https://localhost:8080/"
        },
        "id": "bcpSRfHbZmkl",
        "outputId": "090ca68b-775e-4fc8-f243-2e7cc3b00b00"
      },
      "execution_count": 122,
      "outputs": [
        {
          "output_type": "stream",
          "name": "stdout",
          "text": [
            "a value is 11\n",
            "b value is 28 and c value is 36\n"
          ]
        }
      ]
    },
    {
      "cell_type": "code",
      "source": [
        "s=\"Maharashtra\"\n",
        "list1=[10,20,30,40]\n",
        "print(\"Hello %s,good morning %s\" %(s,list1)) "
      ],
      "metadata": {
        "colab": {
          "base_uri": "https://localhost:8080/"
        },
        "id": "syTvuPrTaFC1",
        "outputId": "eaf6b99f-f31e-4240-b32f-493d2029f8af"
      },
      "execution_count": 125,
      "outputs": [
        {
          "output_type": "stream",
          "name": "stdout",
          "text": [
            "Hello Maharashtra,good morning [10, 20, 30, 40]\n"
          ]
        }
      ]
    },
    {
      "cell_type": "code",
      "source": [
        ""
      ],
      "metadata": {
        "id": "za3VHw9bxfO4"
      },
      "execution_count": null,
      "outputs": []
    }
  ]
}