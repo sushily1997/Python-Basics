{
  "nbformat": 4,
  "nbformat_minor": 0,
  "metadata": {
    "colab": {
      "name": "Copy of Python_Basics_1.ipynb",
      "provenance": [],
      "toc_visible": true,
      "include_colab_link": true
    },
    "kernelspec": {
      "name": "python3",
      "display_name": "Python 3"
    },
    "language_info": {
      "name": "python"
    }
  },
  "cells": [
    {
      "cell_type": "markdown",
      "metadata": {
        "id": "view-in-github",
        "colab_type": "text"
      },
      "source": [
        "<a href=\"https://colab.research.google.com/github/sushily1997/Python-Basics/blob/main/Copy_of_Python_Basics_1.ipynb\" target=\"_parent\"><img src=\"https://colab.research.google.com/assets/colab-badge.svg\" alt=\"Open In Colab\"/></a>"
      ]
    },
    {
      "cell_type": "code",
      "execution_count": null,
      "metadata": {
        "id": "y3yzkfOlQKDZ"
      },
      "outputs": [],
      "source": [
        ""
      ]
    },
    {
      "cell_type": "markdown",
      "source": [
        "# Python Basics"
      ],
      "metadata": {
        "id": "MMbVachgQPYA"
      }
    },
    {
      "cell_type": "code",
      "source": [
        "print(\"Hello\")"
      ],
      "metadata": {
        "colab": {
          "base_uri": "https://localhost:8080/"
        },
        "id": "XZTPXetZQSpI",
        "outputId": "2a41f117-1af8-402f-f8ae-ee8f869230b2"
      },
      "execution_count": null,
      "outputs": [
        {
          "output_type": "stream",
          "name": "stdout",
          "text": [
            "Hello\n"
          ]
        }
      ]
    },
    {
      "cell_type": "code",
      "source": [
        "#only print y #automatically only print last value\n",
        "x = 17\n",
        "y=190 \n",
        "\n",
        "x\n",
        "y"
      ],
      "metadata": {
        "id": "4-2yruclQq55",
        "outputId": "d2ce9c4c-8afe-4efe-8baf-af84c86f922d",
        "colab": {
          "base_uri": "https://localhost:8080/"
        }
      },
      "execution_count": null,
      "outputs": [
        {
          "output_type": "execute_result",
          "data": {
            "text/plain": [
              "190"
            ]
          },
          "metadata": {},
          "execution_count": 64
        }
      ]
    },
    {
      "cell_type": "code",
      "source": [
        "#slice in range (:)"
      ],
      "metadata": {
        "id": "IhitmtnT3JvE"
      },
      "execution_count": null,
      "outputs": []
    },
    {
      "cell_type": "code",
      "source": [
        "s=\"Maharashtra\""
      ],
      "metadata": {
        "id": "2MfXg9g63OWV"
      },
      "execution_count": null,
      "outputs": []
    },
    {
      "cell_type": "code",
      "source": [
        "print (s[6])\n",
        "print"
      ],
      "metadata": {
        "id": "6E-HlJrH3bUP",
        "outputId": "b1b1c1d4-c144-486a-c2b7-aad30d592713",
        "colab": {
          "base_uri": "https://localhost:8080/"
        }
      },
      "execution_count": null,
      "outputs": [
        {
          "output_type": "stream",
          "name": "stdout",
          "text": [
            "s\n"
          ]
        },
        {
          "output_type": "execute_result",
          "data": {
            "text/plain": [
              "<function print>"
            ]
          },
          "metadata": {},
          "execution_count": 72
        }
      ]
    },
    {
      "cell_type": "code",
      "source": [
        "print (s[6-9])"
      ],
      "metadata": {
        "id": "X6qRi0vw3bt9",
        "outputId": "0c9f8c8d-d1c6-4e57-a5cd-2bf804d9c67c",
        "colab": {
          "base_uri": "https://localhost:8080/"
        }
      },
      "execution_count": null,
      "outputs": [
        {
          "output_type": "stream",
          "name": "stdout",
          "text": [
            "t\n"
          ]
        }
      ]
    },
    {
      "cell_type": "code",
      "source": [
        "#multiplication\n"
      ],
      "metadata": {
        "id": "48MutKyh3cSi"
      },
      "execution_count": null,
      "outputs": []
    },
    {
      "cell_type": "code",
      "source": [
        "a=56\n",
        "b=50"
      ],
      "metadata": {
        "id": "nbcqQDUn3dA4"
      },
      "execution_count": null,
      "outputs": []
    },
    {
      "cell_type": "code",
      "source": [
        "z=a*b"
      ],
      "metadata": {
        "id": "end2iDyn3eti"
      },
      "execution_count": null,
      "outputs": []
    },
    {
      "cell_type": "code",
      "source": [
        "print (z) "
      ],
      "metadata": {
        "id": "PDi1DowT3fZ9",
        "outputId": "1088b058-51ba-4af4-a548-fafa66b75a9f",
        "colab": {
          "base_uri": "https://localhost:8080/"
        }
      },
      "execution_count": null,
      "outputs": [
        {
          "output_type": "stream",
          "name": "stdout",
          "text": [
            "2800\n"
          ]
        }
      ]
    },
    {
      "cell_type": "code",
      "source": [
        "# tpe ofpython\n"
      ],
      "metadata": {
        "id": "KXk4I2Po51CL"
      },
      "execution_count": null,
      "outputs": []
    },
    {
      "cell_type": "code",
      "source": [
        "x=67\n",
        "a=78.9\n",
        "z=\"python\""
      ],
      "metadata": {
        "id": "N4GpzHrN52zK"
      },
      "execution_count": null,
      "outputs": []
    },
    {
      "cell_type": "code",
      "source": [
        "print (type(x))\n",
        "print"
      ],
      "metadata": {
        "id": "PWY_KLfG7U2q",
        "outputId": "7750dbcb-8c2f-4ffd-b7b2-4a3d1219811a",
        "colab": {
          "base_uri": "https://localhost:8080/"
        }
      },
      "execution_count": null,
      "outputs": [
        {
          "output_type": "stream",
          "name": "stdout",
          "text": [
            "<class 'int'>\n"
          ]
        },
        {
          "output_type": "execute_result",
          "data": {
            "text/plain": [
              "<function print>"
            ]
          },
          "metadata": {},
          "execution_count": 89
        }
      ]
    },
    {
      "cell_type": "code",
      "source": [
        "print (type(a))"
      ],
      "metadata": {
        "id": "w7Tb7pXj79fz",
        "outputId": "899222dd-76d6-4e79-ae4e-5c9ddbc5de18",
        "colab": {
          "base_uri": "https://localhost:8080/"
        }
      },
      "execution_count": null,
      "outputs": [
        {
          "output_type": "stream",
          "name": "stdout",
          "text": [
            "<class 'float'>\n"
          ]
        }
      ]
    },
    {
      "cell_type": "code",
      "source": [
        ""
      ],
      "metadata": {
        "id": "GjfJeLZp-Br4"
      },
      "execution_count": null,
      "outputs": []
    },
    {
      "cell_type": "code",
      "source": [
        "print (type(z))"
      ],
      "metadata": {
        "id": "CRceL4Q_8Euy",
        "outputId": "8a4e3c84-3ba4-46c1-906c-ede574da0f30",
        "colab": {
          "base_uri": "https://localhost:8080/"
        }
      },
      "execution_count": null,
      "outputs": [
        {
          "output_type": "stream",
          "name": "stdout",
          "text": [
            "<class 'str'>\n"
          ]
        }
      ]
    },
    {
      "cell_type": "code",
      "source": [
        "#Id"
      ],
      "metadata": {
        "id": "mxp3FvA08SZ4"
      },
      "execution_count": null,
      "outputs": []
    },
    {
      "cell_type": "code",
      "source": [
        "x=56\n",
        "z=67"
      ],
      "metadata": {
        "id": "T8em2bSO8d6k"
      },
      "execution_count": null,
      "outputs": []
    },
    {
      "cell_type": "code",
      "source": [
        "id(x)"
      ],
      "metadata": {
        "id": "287biuoy9NaU",
        "outputId": "0e579dbd-aa6d-475a-cf96-4f781b46a2e3",
        "colab": {
          "base_uri": "https://localhost:8080/"
        }
      },
      "execution_count": null,
      "outputs": [
        {
          "output_type": "execute_result",
          "data": {
            "text/plain": [
              "94881523429600"
            ]
          },
          "metadata": {},
          "execution_count": 103
        }
      ]
    },
    {
      "cell_type": "code",
      "source": [
        "print (id(z)) "
      ],
      "metadata": {
        "id": "8JexOXGv9hDn",
        "outputId": "0d5e934b-704e-485e-e07b-1c95d4635001",
        "colab": {
          "base_uri": "https://localhost:8080/"
        }
      },
      "execution_count": null,
      "outputs": [
        {
          "output_type": "stream",
          "name": "stdout",
          "text": [
            "140130953145040\n"
          ]
        }
      ]
    },
    {
      "cell_type": "code",
      "source": [
        "a=6\n",
        "b=9"
      ],
      "metadata": {
        "id": "-ZOQ9P4W-_bz"
      },
      "execution_count": null,
      "outputs": []
    },
    {
      "cell_type": "code",
      "source": [
        "c=a<b"
      ],
      "metadata": {
        "id": "rYDjBFUU_Hie"
      },
      "execution_count": null,
      "outputs": []
    },
    {
      "cell_type": "code",
      "source": [
        "print (c)"
      ],
      "metadata": {
        "id": "V2BKJoZK_InM",
        "outputId": "c95b48d3-cef8-4ac0-be82-1f8a4f14bb77",
        "colab": {
          "base_uri": "https://localhost:8080/"
        }
      },
      "execution_count": null,
      "outputs": [
        {
          "output_type": "stream",
          "name": "stdout",
          "text": [
            "True\n"
          ]
        }
      ]
    },
    {
      "cell_type": "code",
      "source": [
        "print ( type(c))"
      ],
      "metadata": {
        "id": "a8mLy_ta_k_y",
        "outputId": "e409665d-dc78-42d6-8c86-77ddd4e651ee",
        "colab": {
          "base_uri": "https://localhost:8080/"
        }
      },
      "execution_count": null,
      "outputs": [
        {
          "output_type": "stream",
          "name": "stdout",
          "text": [
            "<class 'bool'>\n"
          ]
        }
      ]
    },
    {
      "cell_type": "code",
      "source": [
        "c=0\n",
        "b=7\n"
      ],
      "metadata": {
        "id": "VAilrssv_t-q"
      },
      "execution_count": null,
      "outputs": []
    },
    {
      "cell_type": "code",
      "source": [
        "n=c>b"
      ],
      "metadata": {
        "id": "7Q5UVo8H_5OM"
      },
      "execution_count": null,
      "outputs": []
    },
    {
      "cell_type": "code",
      "source": [
        "print(n)"
      ],
      "metadata": {
        "id": "fTM51EMfAZyd",
        "outputId": "7a80e811-8b0b-421a-9fc4-ba391f7f64b6",
        "colab": {
          "base_uri": "https://localhost:8080/"
        }
      },
      "execution_count": null,
      "outputs": [
        {
          "output_type": "stream",
          "name": "stdout",
          "text": [
            "False\n"
          ]
        }
      ]
    },
    {
      "cell_type": "code",
      "source": [
        "print ( type(n))"
      ],
      "metadata": {
        "id": "Hmq7-mvHAsWo",
        "outputId": "9b2921e3-f5da-4423-e628-800b1f81e21f",
        "colab": {
          "base_uri": "https://localhost:8080/"
        }
      },
      "execution_count": null,
      "outputs": [
        {
          "output_type": "stream",
          "name": "stdout",
          "text": [
            "<class 'bool'>\n"
          ]
        }
      ]
    }
  ]
}