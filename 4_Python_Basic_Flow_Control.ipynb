{
  "cells": [
    {
      "cell_type": "markdown",
      "metadata": {
        "id": "view-in-github",
        "colab_type": "text"
      },
      "source": [
        "<a href=\"https://colab.research.google.com/github/sushily1997/Python-Basics-test/blob/main/4_Python_Basic_Flow_Control.ipynb\" target=\"_parent\"><img src=\"https://colab.research.google.com/assets/colab-badge.svg\" alt=\"Open In Colab\"/></a>"
      ]
    },
    {
      "cell_type": "markdown",
      "source": [
        "1. Conditional Statements\n",
        "\n",
        "1) if\n",
        "\n",
        "if condition : statement\n",
        "\n",
        "OR\n",
        "\n",
        "if condition :\n",
        "\n",
        "statement-1\n",
        "\n",
        "statement-2\n",
        "\n",
        "statement-3"
      ],
      "metadata": {
        "id": "m9sqybwLKmw4"
      }
    },
    {
      "cell_type": "code",
      "source": [
        "#If condition is true then statements will be executed:\n",
        "name = input(\"Enter Name:\")\n",
        "if name==\"My name is sushil yeotiwad\":\n",
        "  print(\"Im from dharmabad\")\n",
        "  print(\"I am A student\")"
      ],
      "metadata": {
        "id": "XgjbDnAeDyeh",
        "outputId": "7300a59d-8202-4678-c1f7-3d5439b4d7e3",
        "colab": {
          "base_uri": "https://localhost:8080/"
        }
      },
      "execution_count": null,
      "outputs": [
        {
          "output_type": "stream",
          "name": "stdout",
          "text": [
            "Enter Name:My name is sushil yeotiwad\n",
            "Im from dharmabad\n",
            "I am A student\n"
          ]
        }
      ]
    },
    {
      "cell_type": "code",
      "source": [
        "#If condition is true then statements will be executed.\n",
        "name = input(\"Enter Name :\")\n",
        "if name==\"rahul\":\n",
        "  print(\"rahul\")\n",
        "  print(\"kalidas\")"
      ],
      "metadata": {
        "id": "UH9G2hGQDy9I",
        "outputId": "475e6764-198e-4df8-a145-f30f754cfb5c",
        "colab": {
          "base_uri": "https://localhost:8080/"
        }
      },
      "execution_count": null,
      "outputs": [
        {
          "output_type": "stream",
          "name": "stdout",
          "text": [
            "Enter Name :rahul\n",
            "rahul\n",
            "kalidas\n"
          ]
        }
      ]
    },
    {
      "cell_type": "code",
      "source": [
        "# Write a Program to find Biggest of given 2 Numbers from the Commad Prompt?\n",
        "n1=int(input(\"EnterFirstNumber:\"))\n",
        "n2=int(input(\"EnterSecondNumber:\"))\n",
        "if n1>n2:\n",
        "  print(\"Biggest Number is:\",n1)\n",
        "else:\n",
        "  print(\"Biggest Number is:\",n2)"
      ],
      "metadata": {
        "id": "6SAGVr6cKE3m",
        "outputId": "562c8d02-1996-4f2b-f0a5-d9fc52480e61",
        "colab": {
          "base_uri": "https://localhost:8080/"
        }
      },
      "execution_count": null,
      "outputs": [
        {
          "output_type": "stream",
          "name": "stdout",
          "text": [
            "EnterFirstNumber:32\n",
            "EnterSecondNumber:34\n",
            "Biggest Number is: 34\n"
          ]
        }
      ]
    },
    {
      "cell_type": "markdown",
      "source": [
        "Homework:\n",
        "\n",
        "1) Write a Program to find Biggest of given 3 Numbers from the Commad Prompt?\n",
        "\n",
        "2) Write a program to find smallest of given 2 numbers?\n",
        "\n",
        "3) Write a program to find smallest of given 3 numbers?\n",
        "\n",
        "4) Write a program to check whether the given number is even or odd?"
      ],
      "metadata": {
        "id": "8nr1-V5lFfi7"
      }
    },
    {
      "cell_type": "code",
      "source": [
        "# Write a Program to find Biggest of given 3 Numbers?\n",
        "n1 = int(input(\"Enter First Number :\"))\n",
        "n2 = int(input(\"Enter Second Number :\"))\n",
        "n3 = int(input(\"Enter Third Number :\"))\n",
        "if n1>n2 and n1>n3:\n",
        "  print(\"Biggest Number is:\" ,n1)\n",
        "elif n2>n1 and n2>n3:   \n",
        "  print(\"Biggest Number is:\" ,n2)\n",
        "else:\n",
        "  print(\"Biggest Number is:\" ,n3)"
      ],
      "metadata": {
        "id": "Vo-iHJwCDzNQ",
        "outputId": "f71af307-0dc5-4205-cb3c-6687a8295e84",
        "colab": {
          "base_uri": "https://localhost:8080/"
        }
      },
      "execution_count": null,
      "outputs": [
        {
          "output_type": "stream",
          "name": "stdout",
          "text": [
            "Enter First Number :21\n",
            "Enter Second Number :34\n",
            "Enter Third Number :44\n",
            "Biggest Number is: 44\n"
          ]
        }
      ]
    },
    {
      "cell_type": "code",
      "source": [
        "# Write a Program to find Smallest of given 2 Numbers?\n",
        "n1 = int(input(\"Enter First Number :\"))\n",
        "n2 = int(input(\"Enter Second Number :\"))\n",
        "if n1<n2:\n",
        "  print(\"Smallest Number Is : \" ,n1)\n",
        "else:\n",
        "  print(\"Smallest Number Is : \" ,n2)  "
      ],
      "metadata": {
        "id": "XWYThFTvDzqD",
        "outputId": "7db50217-7b93-4101-b227-ae876b77dc6a",
        "colab": {
          "base_uri": "https://localhost:8080/"
        }
      },
      "execution_count": null,
      "outputs": [
        {
          "output_type": "stream",
          "name": "stdout",
          "text": [
            "Enter First Number :34\n",
            "Enter Second Number :10\n",
            "Smallest Number Is :  10\n"
          ]
        }
      ]
    },
    {
      "cell_type": "code",
      "source": [
        "# Write a Program to find Smallest of given 3 Numbers?\n",
        "n1 = int(input(\"Enter First Number : \"))\n",
        "n2 = int(input(\"Enter Second Number : \"))\n",
        "n3 = int(input(\"Enter Third Number : \"))\n",
        "if n1<n2 and n1<n3:\n",
        "  print(\"Smallest Number is : \" ,n1)\n",
        "elif n2<n3 and n2<n1:\n",
        "  print(\"Smallest number is : \" ,n2)\n",
        "else:\n",
        "  print(\"smallest Number is : \" ,n3)"
      ],
      "metadata": {
        "id": "VwPQDiauDzba",
        "outputId": "430eb2d3-58aa-451e-a26e-50fb681fc0de",
        "colab": {
          "base_uri": "https://localhost:8080/"
        }
      },
      "execution_count": null,
      "outputs": [
        {
          "output_type": "stream",
          "name": "stdout",
          "text": [
            "Enter First Number : 23\n",
            "Enter Second Number : 21\n",
            "Enter Third Number : 54\n",
            "Smallest number is :  21\n"
          ]
        }
      ]
    },
    {
      "cell_type": "code",
      "source": [
        "# python program to cheak if the input number is odd or even.\n",
        "#A number is even if division by 2 gives a remainder of 0.\n",
        "# If the remainder is 1,it is an odd number.\n",
        "nun=int(input(\"Enter a number:\"))\n",
        "if (nun % 2)== 0:\n",
        "  print(\"{0} is Even\".format(nun))\n",
        "else:\n",
        "  print(\"{0} is odd\".format(nun))\n",
        "  "
      ],
      "metadata": {
        "id": "eIbckA66D5D7",
        "outputId": "bc231b03-a2e8-4c66-f4f3-76193203d3db",
        "colab": {
          "base_uri": "https://localhost:8080/"
        }
      },
      "execution_count": null,
      "outputs": [
        {
          "output_type": "stream",
          "name": "stdout",
          "text": [
            "Enter a number:23\n",
            "23 is odd\n"
          ]
        }
      ]
    },
    {
      "cell_type": "markdown",
      "source": [
        "2) Iterative Statements:\n",
        "\n",
        "\n",
        "Python supports 2 types\n",
        "\n",
        "for loop\n",
        "\n",
        "while loop\n",
        "\n",
        "֍ for loop:"
      ],
      "metadata": {
        "id": "_P5cqZv3Ldvt"
      }
    },
    {
      "cell_type": "code",
      "source": [
        "# To print characters present in the given string:\n",
        "x = \"maharashtra\"\n",
        "for y in x:\n",
        "  print(y)"
      ],
      "metadata": {
        "id": "2y1b1qxSD4Rl",
        "outputId": "2bdc3bcd-6905-47df-e2d4-834b633a8561",
        "colab": {
          "base_uri": "https://localhost:8080/"
        }
      },
      "execution_count": null,
      "outputs": [
        {
          "output_type": "stream",
          "name": "stdout",
          "text": [
            "m\n",
            "a\n",
            "h\n",
            "a\n",
            "r\n",
            "a\n",
            "s\n",
            "h\n",
            "t\n",
            "r\n",
            "a\n"
          ]
        }
      ]
    },
    {
      "cell_type": "code",
      "source": [
        "x=\"Maharashtra\"\n",
        "for y in x:\n",
        " print(y,end=' ')"
      ],
      "metadata": {
        "id": "ylrSJdH1D3NJ",
        "outputId": "05c5562f-84e5-4e28-89a9-5db6c9503721",
        "colab": {
          "base_uri": "https://localhost:8080/"
        }
      },
      "execution_count": null,
      "outputs": [
        {
          "output_type": "stream",
          "name": "stdout",
          "text": [
            "M a h a r a s h t r a "
          ]
        }
      ]
    },
    {
      "cell_type": "code",
      "source": [
        "# To print Success 18 times:\n",
        "for x in range(18):\n",
        "  print(\"Happy\")"
      ],
      "metadata": {
        "id": "-vUR55iED2Ux",
        "outputId": "192a32f9-34a7-4c21-d7e1-828039496152",
        "colab": {
          "base_uri": "https://localhost:8080/"
        }
      },
      "execution_count": null,
      "outputs": [
        {
          "output_type": "stream",
          "name": "stdout",
          "text": [
            "Happy\n",
            "Happy\n",
            "Happy\n",
            "Happy\n",
            "Happy\n",
            "Happy\n",
            "Happy\n",
            "Happy\n",
            "Happy\n",
            "Happy\n",
            "Happy\n",
            "Happy\n",
            "Happy\n",
            "Happy\n",
            "Happy\n",
            "Happy\n",
            "Happy\n",
            "Happy\n"
          ]
        }
      ]
    },
    {
      "cell_type": "code",
      "source": [
        "# To display odd numbers from 0 to 23:\n",
        "for x in range (24):\n",
        "  if (x%2 !=0):\n",
        "    print(x)"
      ],
      "metadata": {
        "id": "AlorUcrKHxGb",
        "outputId": "69f94a6d-86f4-4b92-88ec-f2e4b6ada100",
        "colab": {
          "base_uri": "https://localhost:8080/"
        }
      },
      "execution_count": null,
      "outputs": [
        {
          "output_type": "stream",
          "name": "stdout",
          "text": [
            "1\n",
            "3\n",
            "5\n",
            "7\n",
            "9\n",
            "11\n",
            "13\n",
            "15\n",
            "17\n",
            "19\n",
            "21\n",
            "23\n"
          ]
        }
      ]
    },
    {
      "cell_type": "code",
      "source": [
        "# To display numbers from 18 to 2 in descending order:\n",
        "for a in range(18, 0, -2):\n",
        "  print(a)"
      ],
      "metadata": {
        "id": "iZgJNHrsD1PV",
        "outputId": "941e1693-2005-40d0-9b56-aa39252717bd",
        "colab": {
          "base_uri": "https://localhost:8080/"
        }
      },
      "execution_count": null,
      "outputs": [
        {
          "output_type": "stream",
          "name": "stdout",
          "text": [
            "18\n",
            "16\n",
            "14\n",
            "12\n",
            "10\n",
            "8\n",
            "6\n",
            "4\n",
            "2\n"
          ]
        }
      ]
    },
    {
      "cell_type": "code",
      "source": [
        "# To print sum of numbers presenst inside list\n",
        "a = eval(input(\"EnterList : \"))\n",
        "sum=0\n",
        "for x in list:\n",
        " sum=sum+x;\n",
        "print(\"The Sum=\",sum)"
      ],
      "metadata": {
        "id": "vFAdvMIyD0nR",
        "outputId": "636b7087-f022-482c-ad14-47c589226d48",
        "colab": {
          "base_uri": "https://localhost:8080/"
        }
      },
      "execution_count": null,
      "outputs": [
        {
          "output_type": "stream",
          "name": "stdout",
          "text": [
            "EnterList : 4,8,16,32\n",
            "The Sum= 15\n"
          ]
        }
      ]
    },
    {
      "cell_type": "code",
      "source": [
        ""
      ],
      "metadata": {
        "id": "i9zHCUndDz47"
      },
      "execution_count": null,
      "outputs": []
    },
    {
      "cell_type": "markdown",
      "source": [
        "2) While Loop"
      ],
      "metadata": {
        "id": "uVzXqRl_Lu0z"
      }
    },
    {
      "cell_type": "code",
      "source": [
        "# To print numbers from 1 to 10 by using while loop\n",
        "\n",
        "x=2\n",
        "while x<=10:\n",
        " print(x)\n",
        " x=x+1"
      ],
      "metadata": {
        "id": "lG4kvMpsLta8",
        "outputId": "fc5ab19f-252e-4832-a690-176091ebfa5e",
        "colab": {
          "base_uri": "https://localhost:8080/"
        }
      },
      "execution_count": null,
      "outputs": [
        {
          "output_type": "stream",
          "name": "stdout",
          "text": [
            "2\n",
            "3\n",
            "4\n",
            "5\n",
            "6\n",
            "7\n",
            "8\n",
            "9\n",
            "10\n"
          ]
        }
      ]
    },
    {
      "cell_type": "code",
      "source": [
        "# To display the sum of first n numbers\n",
        "\n",
        "n=int(input(\"Enternumber:\"))\n",
        "sum=0\n",
        "i=2\n",
        "while i<=n:\n",
        "  sum=sum+i\n",
        "  i=i+1\n",
        "print(\"The sum of first\",n,\"numbers is:\",sum)"
      ],
      "metadata": {
        "id": "9ZQfw6moMB2l",
        "outputId": "5d3a4f46-7830-4abc-80cf-bc77ab79279e",
        "colab": {
          "base_uri": "https://localhost:8080/"
        }
      },
      "execution_count": null,
      "outputs": [
        {
          "output_type": "stream",
          "name": "stdout",
          "text": [
            "Enternumber:6\n",
            "The sum of first 6 numbers is: 20\n"
          ]
        }
      ]
    },
    {
      "cell_type": "code",
      "source": [
        "#Infinite Loops\n",
        "i=0;\n",
        "while True:\n",
        "  i=i+1;\n",
        "  print(\"Hello\",i)"
      ],
      "metadata": {
        "id": "P6-1IKw8MFoR"
      },
      "execution_count": null,
      "outputs": []
    },
    {
      "cell_type": "code",
      "source": [
        "#Nested Loop\n",
        "# we can take a loop inside another loop,which are also known as nested loops.\n",
        "for i in range(8):\n",
        "  for j in range(6):\n",
        "    print(\"i=\",i,\" j=\",j)"
      ],
      "metadata": {
        "id": "iAbI41pqMEv_",
        "outputId": "c0757d4e-2198-44aa-e80e-40647e27b5e1",
        "colab": {
          "base_uri": "https://localhost:8080/"
        }
      },
      "execution_count": null,
      "outputs": [
        {
          "output_type": "stream",
          "name": "stdout",
          "text": [
            "i= 0  j= 0\n",
            "i= 0  j= 1\n",
            "i= 0  j= 2\n",
            "i= 0  j= 3\n",
            "i= 0  j= 4\n",
            "i= 0  j= 5\n",
            "i= 1  j= 0\n",
            "i= 1  j= 1\n",
            "i= 1  j= 2\n",
            "i= 1  j= 3\n",
            "i= 1  j= 4\n",
            "i= 1  j= 5\n",
            "i= 2  j= 0\n",
            "i= 2  j= 1\n",
            "i= 2  j= 2\n",
            "i= 2  j= 3\n",
            "i= 2  j= 4\n",
            "i= 2  j= 5\n",
            "i= 3  j= 0\n",
            "i= 3  j= 1\n",
            "i= 3  j= 2\n",
            "i= 3  j= 3\n",
            "i= 3  j= 4\n",
            "i= 3  j= 5\n",
            "i= 4  j= 0\n",
            "i= 4  j= 1\n",
            "i= 4  j= 2\n",
            "i= 4  j= 3\n",
            "i= 4  j= 4\n",
            "i= 4  j= 5\n",
            "i= 5  j= 0\n",
            "i= 5  j= 1\n",
            "i= 5  j= 2\n",
            "i= 5  j= 3\n",
            "i= 5  j= 4\n",
            "i= 5  j= 5\n",
            "i= 6  j= 0\n",
            "i= 6  j= 1\n",
            "i= 6  j= 2\n",
            "i= 6  j= 3\n",
            "i= 6  j= 4\n",
            "i= 6  j= 5\n",
            "i= 7  j= 0\n",
            "i= 7  j= 1\n",
            "i= 7  j= 2\n",
            "i= 7  j= 3\n",
            "i= 7  j= 4\n",
            "i= 7  j= 5\n"
          ]
        }
      ]
    },
    {
      "cell_type": "markdown",
      "source": [
        "3) Transfer Statements\n",
        "\n",
        "1) break:"
      ],
      "metadata": {
        "id": "sYU2jjC3NZby"
      }
    },
    {
      "cell_type": "code",
      "source": [
        "for i in range(24):\n",
        " if i==21:\n",
        "   print(\"processing is enough..plz break\")\n",
        "   break\n",
        " print(i)"
      ],
      "metadata": {
        "id": "_spdy5MzO-V9",
        "outputId": "8845f1a3-dc46-4141-facf-8ed1a385e7aa",
        "colab": {
          "base_uri": "https://localhost:8080/"
        }
      },
      "execution_count": null,
      "outputs": [
        {
          "output_type": "stream",
          "name": "stdout",
          "text": [
            "0\n",
            "1\n",
            "2\n",
            "3\n",
            "4\n",
            "5\n",
            "6\n",
            "7\n",
            "8\n",
            "9\n",
            "10\n",
            "11\n",
            "12\n",
            "13\n",
            "14\n",
            "15\n",
            "16\n",
            "17\n",
            "18\n",
            "19\n",
            "20\n",
            "processing is enough..plz break\n"
          ]
        }
      ]
    },
    {
      "cell_type": "code",
      "source": [
        "for i in range(18):\n",
        " if i==16:\n",
        "   print(\"processing is enough..plz break\")\n",
        "   break\n",
        " print(i)"
      ],
      "metadata": {
        "id": "76sG_I6ZNY1i",
        "outputId": "4fed9d22-5352-43e0-9f99-ca558aa37334",
        "colab": {
          "base_uri": "https://localhost:8080/"
        }
      },
      "execution_count": null,
      "outputs": [
        {
          "output_type": "stream",
          "name": "stdout",
          "text": [
            "0\n",
            "1\n",
            "2\n",
            "3\n",
            "4\n",
            "5\n",
            "6\n",
            "7\n",
            "8\n",
            "9\n",
            "10\n",
            "11\n",
            "12\n",
            "13\n",
            "14\n",
            "15\n",
            "processing is enough..plz break\n"
          ]
        }
      ]
    },
    {
      "cell_type": "code",
      "source": [
        "#2) continue"
      ],
      "metadata": {
        "id": "akqNLER3Pkdd"
      },
      "execution_count": null,
      "outputs": []
    },
    {
      "cell_type": "code",
      "source": [
        "# Eg 1: To print odd numbers in the range 0 to 21\n",
        "for i in range(22):\n",
        "  if i%2==0:\n",
        "    continue\n",
        "  print(i)"
      ],
      "metadata": {
        "id": "5mIE1YhmP5NT",
        "outputId": "ca768058-7673-4c0d-f449-ddce53946542",
        "colab": {
          "base_uri": "https://localhost:8080/"
        }
      },
      "execution_count": null,
      "outputs": [
        {
          "output_type": "stream",
          "name": "stdout",
          "text": [
            "1\n",
            "3\n",
            "5\n",
            "7\n",
            "9\n",
            "11\n",
            "13\n",
            "15\n",
            "17\n",
            "19\n",
            "21\n"
          ]
        }
      ]
    },
    {
      "cell_type": "code",
      "source": [
        "cart=[10,20,50,550,60,70]\n",
        "for item in cart:\n",
        "  if item>=500:\n",
        "    print(\"We cannot process this item :\",item)\n",
        "    continue\n",
        "  print(item)"
      ],
      "metadata": {
        "id": "4XjJuuvaMD9q",
        "outputId": "bbc00d9a-ac1b-4e70-fb74-16587a9b5214",
        "colab": {
          "base_uri": "https://localhost:8080/"
        }
      },
      "execution_count": null,
      "outputs": [
        {
          "output_type": "stream",
          "name": "stdout",
          "text": [
            "10\n",
            "20\n",
            "50\n",
            "We cannot process this item : 550\n",
            "60\n",
            "70\n"
          ]
        }
      ]
    },
    {
      "cell_type": "code",
      "source": [
        "numbers=[10,20,0,5,0,30]\n",
        "for n in numbers:\n",
        "  if n==0:\n",
        "    print(\"Hey how we can divide with zero..just skipping\")\n",
        "    continue\n",
        "  print(\"100/{} = {}\".format(n,1.5/n))"
      ],
      "metadata": {
        "id": "HWVFie5HMDSK",
        "outputId": "88bef1fd-f736-4ca6-e4e4-3e2ced56c6bf",
        "colab": {
          "base_uri": "https://localhost:8080/"
        }
      },
      "execution_count": null,
      "outputs": [
        {
          "output_type": "stream",
          "name": "stdout",
          "text": [
            "100/10 = 0.15\n",
            "100/20 = 0.075\n",
            "Hey how we can divide with zero..just skipping\n",
            "100/5 = 0.3\n",
            "Hey how we can divide with zero..just skipping\n",
            "100/30 = 0.05\n"
          ]
        }
      ]
    },
    {
      "cell_type": "markdown",
      "source": [
        "Loops With else block\n",
        "\n",
        "else"
      ],
      "metadata": {
        "id": "jrkBzmXFOzCW"
      }
    },
    {
      "cell_type": "code",
      "source": [
        "cart=[10,20,30,40,50]\n",
        "for item in cart:\n",
        "  if item>=51:\n",
        "     print(\"We cannot process this order\")\n",
        "     break\n",
        "  print(item)\n",
        "else:\n",
        "  print(\"Congrats ...all items processed successfully\")"
      ],
      "metadata": {
        "id": "1vrhnloiPP3H",
        "outputId": "f0ba6b4e-b0f1-49aa-bfa3-72af75cde6af",
        "colab": {
          "base_uri": "https://localhost:8080/"
        }
      },
      "execution_count": null,
      "outputs": [
        {
          "output_type": "stream",
          "name": "stdout",
          "text": [
            "10\n",
            "20\n",
            "30\n",
            "40\n",
            "50\n",
            "Congrats ...all items processed successfully\n"
          ]
        }
      ]
    },
    {
      "cell_type": "markdown",
      "source": [
        "3) pass statement:"
      ],
      "metadata": {
        "id": "nGWUpscWQ_bB"
      }
    },
    {
      "cell_type": "code",
      "source": [
        "for i in range(90):\n",
        "  if i%9==0:\n",
        "    print(i)\n",
        "  else:\n",
        "    pass"
      ],
      "metadata": {
        "id": "E_Bu7-wqRIuC",
        "outputId": "48cc3332-8d96-4659-eb0a-04ae0fdb64d3",
        "colab": {
          "base_uri": "https://localhost:8080/"
        }
      },
      "execution_count": null,
      "outputs": [
        {
          "output_type": "stream",
          "name": "stdout",
          "text": [
            "0\n",
            "9\n",
            "18\n",
            "27\n",
            "36\n",
            "45\n",
            "54\n",
            "63\n",
            "72\n",
            "81\n"
          ]
        }
      ]
    }
  ],
  "metadata": {
    "colab": {
      "collapsed_sections": [],
      "name": "Copy of Welcome To Colaboratory",
      "provenance": [],
      "include_colab_link": true
    },
    "kernelspec": {
      "display_name": "Python 3",
      "name": "python3"
    }
  },
  "nbformat": 4,
  "nbformat_minor": 0
}