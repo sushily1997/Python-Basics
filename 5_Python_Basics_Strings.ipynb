{
  "nbformat": 4,
  "nbformat_minor": 0,
  "metadata": {
    "colab": {
      "name": "5_Python_Basics_Strings.ipynb",
      "provenance": [],
      "include_colab_link": true
    },
    "kernelspec": {
      "name": "python3",
      "display_name": "Python 3"
    },
    "language_info": {
      "name": "python"
    }
  },
  "cells": [
    {
      "cell_type": "markdown",
      "metadata": {
        "id": "view-in-github",
        "colab_type": "text"
      },
      "source": [
        "<a href=\"https://colab.research.google.com/github/sushily1997/Python-Basics-test/blob/main/5_Python_Basics_Strings.ipynb\" target=\"_parent\"><img src=\"https://colab.research.google.com/assets/colab-badge.svg\" alt=\"Open In Colab\"/></a>"
      ]
    },
    {
      "cell_type": "markdown",
      "source": [
        " # String\n",
        "\n",
        "Any sequence of characters within either single quotes or double quotes is considered as a\n",
        " String.\n",
        "\n",
        "We can define multi-line String literals by using triple single or double quotes.\n",
        "\n",
        " We can also use triple quotes to use single quotes or double quotes as symbol inside\n",
        " String literal"
      ],
      "metadata": {
        "id": "YHNrHreRRvJz"
      }
    },
    {
      "cell_type": "code",
      "source": [
        "s= 'Hi everyone'\n",
        "s = \"Today's topic is string\"\n",
        "a = ''' Today i am learning about \"data science\"'''"
      ],
      "metadata": {
        "id": "C4NK9IPySCFA"
      },
      "execution_count": 159,
      "outputs": []
    },
    {
      "cell_type": "markdown",
      "source": [
        "# How to access characters of a string?\n",
        "\n",
        " We can access characters of a string by using the following ways.\n",
        "1. By using index\n",
        "2. By using slice operator"
      ],
      "metadata": {
        "id": "IYrhoJFFSUvk"
      }
    },
    {
      "cell_type": "code",
      "source": [
        "# 1. accessing characters by using index\n",
        "s[3]"
      ],
      "metadata": {
        "colab": {
          "base_uri": "https://localhost:8080/",
          "height": 35
        },
        "id": "Uk8SJjZ9SO1F",
        "outputId": "0a1ce8ab-a0bd-48e4-8472-2a29fdc61e4a"
      },
      "execution_count": 160,
      "outputs": [
        {
          "output_type": "execute_result",
          "data": {
            "text/plain": [
              "'a'"
            ],
            "application/vnd.google.colaboratory.intrinsic+json": {
              "type": "string"
            }
          },
          "metadata": {},
          "execution_count": 160
        }
      ]
    },
    {
      "cell_type": "code",
      "source": [
        "a[-1]"
      ],
      "metadata": {
        "colab": {
          "base_uri": "https://localhost:8080/",
          "height": 35
        },
        "id": "sjraq1ywSq36",
        "outputId": "e67365e1-0ab2-4240-9124-88ad244f7cb2"
      },
      "execution_count": 161,
      "outputs": [
        {
          "output_type": "execute_result",
          "data": {
            "text/plain": [
              "'\"'"
            ],
            "application/vnd.google.colaboratory.intrinsic+json": {
              "type": "string"
            }
          },
          "metadata": {},
          "execution_count": 161
        }
      ]
    },
    {
      "cell_type": "code",
      "source": [
        "a[-6]"
      ],
      "metadata": {
        "id": "6KrJNGybBSgY",
        "outputId": "38926c9b-e3e1-4b48-f236-b5b41a7aa38b",
        "colab": {
          "base_uri": "https://localhost:8080/",
          "height": 35
        }
      },
      "execution_count": 162,
      "outputs": [
        {
          "output_type": "execute_result",
          "data": {
            "text/plain": [
              "'i'"
            ],
            "application/vnd.google.colaboratory.intrinsic+json": {
              "type": "string"
            }
          },
          "metadata": {},
          "execution_count": 162
        }
      ]
    },
    {
      "cell_type": "code",
      "source": [
        "# 2. Accessing characters by using slice operator\n",
        "#  Syntax: s[begin index : end index : step]\n",
        "s=\"Don't make excuses,make improvements!!!\"\n",
        "s[1:7:1]"
      ],
      "metadata": {
        "colab": {
          "base_uri": "https://localhost:8080/",
          "height": 35
        },
        "id": "7qY4y_HqSs3Y",
        "outputId": "5cccfebb-baf5-4fdc-9702-360175a266d2"
      },
      "execution_count": 163,
      "outputs": [
        {
          "output_type": "execute_result",
          "data": {
            "text/plain": [
              "\"on't m\""
            ],
            "application/vnd.google.colaboratory.intrinsic+json": {
              "type": "string"
            }
          },
          "metadata": {},
          "execution_count": 163
        }
      ]
    },
    {
      "cell_type": "code",
      "source": [
        "s[::]"
      ],
      "metadata": {
        "colab": {
          "base_uri": "https://localhost:8080/",
          "height": 35
        },
        "id": "G5gjTssPTUMU",
        "outputId": "00e38d69-4c34-4fec-cd08-7a1a31ae48e7"
      },
      "execution_count": 164,
      "outputs": [
        {
          "output_type": "execute_result",
          "data": {
            "text/plain": [
              "\"Don't make excuses,make improvements!!!\""
            ],
            "application/vnd.google.colaboratory.intrinsic+json": {
              "type": "string"
            }
          },
          "metadata": {},
          "execution_count": 164
        }
      ]
    },
    {
      "cell_type": "code",
      "source": [
        "s[::-1]"
      ],
      "metadata": {
        "colab": {
          "base_uri": "https://localhost:8080/",
          "height": 35
        },
        "id": "Tjv2iCO8TXcy",
        "outputId": "a515c0ff-a400-4878-b554-8226c5c3c9e7"
      },
      "execution_count": 165,
      "outputs": [
        {
          "output_type": "execute_result",
          "data": {
            "text/plain": [
              "\"!!!stnemevorpmi ekam,sesucxe ekam t'noD\""
            ],
            "application/vnd.google.colaboratory.intrinsic+json": {
              "type": "string"
            }
          },
          "metadata": {},
          "execution_count": 165
        }
      ]
    },
    {
      "cell_type": "code",
      "source": [
        "# Note: Slice operator never raises IndexError\n",
        "s[1000:2:-1]"
      ],
      "metadata": {
        "colab": {
          "base_uri": "https://localhost:8080/",
          "height": 35
        },
        "id": "2LFvaKiWTax-",
        "outputId": "8ef574b8-a934-45a3-c5ac-d1577fa5b570"
      },
      "execution_count": 166,
      "outputs": [
        {
          "output_type": "execute_result",
          "data": {
            "text/plain": [
              "\"!!!stnemevorpmi ekam,sesucxe ekam t'\""
            ],
            "application/vnd.google.colaboratory.intrinsic+json": {
              "type": "string"
            }
          },
          "metadata": {},
          "execution_count": 166
        }
      ]
    },
    {
      "cell_type": "markdown",
      "source": [
        "### len() in-built function"
      ],
      "metadata": {
        "id": "G8cywW92T6Ll"
      }
    },
    {
      "cell_type": "code",
      "source": [
        "len(s)"
      ],
      "metadata": {
        "colab": {
          "base_uri": "https://localhost:8080/"
        },
        "id": "zc_x2wB4TwYC",
        "outputId": "813ec4ff-c24b-47a6-9bce-99b0312694d1"
      },
      "execution_count": 167,
      "outputs": [
        {
          "output_type": "execute_result",
          "data": {
            "text/plain": [
              "39"
            ]
          },
          "metadata": {},
          "execution_count": 167
        }
      ]
    },
    {
      "cell_type": "markdown",
      "source": [
        "##### Q)Write a Program to access each Character of String in Forward and Backward Direction by using while Loop?"
      ],
      "metadata": {
        "id": "Bn3cNmbsUNa0"
      }
    },
    {
      "cell_type": "code",
      "source": [
        "s=\"Your nature is your future!!!\"\n",
        "n=len(s)\n",
        "i=0\n",
        "print(\"Forwarddirection\")\n",
        "while i<n:\n",
        "  print(s[i],end='')\n",
        "  i+=1\n",
        "\n",
        "print(\"Backwarddirection\")\n",
        "i=-1\n",
        "while i >= -n:\n",
        "  print(s[i],end='')\n",
        "  i = i-1"
      ],
      "metadata": {
        "colab": {
          "base_uri": "https://localhost:8080/"
        },
        "id": "TRg_y3OAUA36",
        "outputId": "b81b7450-0fbc-43aa-df50-411e1f5f7342"
      },
      "execution_count": 168,
      "outputs": [
        {
          "output_type": "stream",
          "name": "stdout",
          "text": [
            "Forwarddirection\n",
            "Your nature is your future!!!Backwarddirection\n",
            "!!!erutuf ruoy si erutan ruoY"
          ]
        }
      ]
    },
    {
      "cell_type": "markdown",
      "source": [
        "# Checking Membership:\n",
        "\n",
        " We can check whether the character or string is the member of another string or not by\n",
        " using in and not in operators."
      ],
      "metadata": {
        "id": "I-3XuAsIU-D_"
      }
    },
    {
      "cell_type": "code",
      "source": [
        "s = \"Result of hard work has no full stop\"\n",
        "'d' in s"
      ],
      "metadata": {
        "colab": {
          "base_uri": "https://localhost:8080/"
        },
        "id": "B-lmRuvmUkst",
        "outputId": "5f40c00b-bbb3-4e89-ab8a-dd949b4846d4"
      },
      "execution_count": 171,
      "outputs": [
        {
          "output_type": "execute_result",
          "data": {
            "text/plain": [
              "True"
            ]
          },
          "metadata": {},
          "execution_count": 171
        }
      ]
    },
    {
      "cell_type": "code",
      "source": [
        "'has' in s"
      ],
      "metadata": {
        "id": "mGGDQHGSC4_m",
        "outputId": "1e83460f-2f08-4c54-e785-18927ea2d6d3",
        "colab": {
          "base_uri": "https://localhost:8080/"
        }
      },
      "execution_count": 172,
      "outputs": [
        {
          "output_type": "execute_result",
          "data": {
            "text/plain": [
              "True"
            ]
          },
          "metadata": {},
          "execution_count": 172
        }
      ]
    },
    {
      "cell_type": "markdown",
      "source": [
        "#  Comparison of Strings\n",
        "\n",
        " We can use comparison operators (<, <=, >, >=) and equality operators (==, !=) for\n",
        " strings."
      ],
      "metadata": {
        "id": "N65t2ZsgVYiI"
      }
    },
    {
      "cell_type": "code",
      "source": [
        "s1=input(\"Enter first string:\")\n",
        "s2=input(\"Enter Second string:\")\n",
        "if s1==s2:\n",
        "  print(\"Both strings are equal\")\n",
        "elif s1<s2:\n",
        "  print(\"First String is less than Second String\")\n",
        "else:\n",
        "  print(\"First String is greater than Second String\")"
      ],
      "metadata": {
        "colab": {
          "base_uri": "https://localhost:8080/"
        },
        "id": "xYvEEW4qVPW7",
        "outputId": "0c33ae49-a487-4ac5-e99f-37db954dac28"
      },
      "execution_count": 173,
      "outputs": [
        {
          "output_type": "stream",
          "name": "stdout",
          "text": [
            "Enter first string:Rahul \n",
            "Enter Second string:Sushil\n",
            "First String is less than Second String\n"
          ]
        }
      ]
    },
    {
      "cell_type": "code",
      "source": [
        "s1=input(\"Enter first string:\")\n",
        "s2=input(\"Enter Second string:\")\n",
        "if s1==s2:\n",
        "  print(\"Both strings are equal\")\n",
        "elif s1<s2:\n",
        "  print(\"First String is less than Second String\")\n",
        "else:\n",
        "  print(\"First String is greater than Second String\")"
      ],
      "metadata": {
        "id": "HGSbrh0lDQrk",
        "outputId": "031f75ce-8262-4cd5-91b7-b8a585d8a119",
        "colab": {
          "base_uri": "https://localhost:8080/"
        }
      },
      "execution_count": 176,
      "outputs": [
        {
          "output_type": "stream",
          "name": "stdout",
          "text": [
            "Enter first string:Om\n",
            "Enter Second string:2\n",
            "First String is greater than Second String\n"
          ]
        }
      ]
    },
    {
      "cell_type": "markdown",
      "source": [
        "# Removing Spaces from the String:\n",
        "\n",
        "1)rstrip()-->To remove spaces at right hand side.\n",
        "\n",
        "2) lstrip()--> To remove spaces at left hand side.\n",
        "\n",
        "3) strip()-->To remove spaces both sides."
      ],
      "metadata": {
        "id": "HMu0X3gBV7Kk"
      }
    },
    {
      "cell_type": "code",
      "source": [
        "nmae=input(\"Enter your Name:\")\n",
        "sname=name.strip()\n",
        "if sname=='Rahul':\n",
        "    print(\"Hello Rahul Hru\")\n",
        "elif sname=='Ganesh':\n",
        "    print(\"Hello Ganesh\")\n",
        "elif sname==\"om\":\n",
        "    print(\"Hello om where are you\")\n",
        "else:\n",
        "    print(\"your entered name is invalid\")"
      ],
      "metadata": {
        "colab": {
          "base_uri": "https://localhost:8080/"
        },
        "id": "S74emTlZWITr",
        "outputId": "12118f4f-be07-46c2-b0d5-df9b01dcb56a"
      },
      "execution_count": 177,
      "outputs": [
        {
          "output_type": "stream",
          "name": "stdout",
          "text": [
            "Enter your Name:om\n",
            "Hello om where are you\n"
          ]
        }
      ]
    },
    {
      "cell_type": "code",
      "source": [
        "s = \" if you haven't found it yet keep looking \"\n",
        "s.strip()"
      ],
      "metadata": {
        "colab": {
          "base_uri": "https://localhost:8080/",
          "height": 35
        },
        "id": "vwTT7HrZWiky",
        "outputId": "8e74c1fc-3829-4fb9-a532-27d2132fb712"
      },
      "execution_count": 178,
      "outputs": [
        {
          "output_type": "execute_result",
          "data": {
            "text/plain": [
              "\"if you haven't found it yet keep looking\""
            ],
            "application/vnd.google.colaboratory.intrinsic+json": {
              "type": "string"
            }
          },
          "metadata": {},
          "execution_count": 178
        }
      ]
    },
    {
      "cell_type": "code",
      "source": [
        "s.rstrip()"
      ],
      "metadata": {
        "colab": {
          "base_uri": "https://localhost:8080/",
          "height": 35
        },
        "id": "HyfxVgujW1VI",
        "outputId": "4a578b42-970e-47ec-a7c6-fb2888b8f8a7"
      },
      "execution_count": 182,
      "outputs": [
        {
          "output_type": "execute_result",
          "data": {
            "text/plain": [
              "\" if you haven't found it yet keep looking\""
            ],
            "application/vnd.google.colaboratory.intrinsic+json": {
              "type": "string"
            }
          },
          "metadata": {},
          "execution_count": 182
        }
      ]
    },
    {
      "cell_type": "markdown",
      "source": [
        "# Finding Substrings:\n",
        "We can use the following 4 methods\n",
        "\n",
        "For forward direction:\n",
        "\n",
        "1) find() \n",
        "\n",
        "2) index()\n",
        "\n",
        " For backward direction:\n",
        " \n",
        "1) rfind()\n",
        "\n",
        "2) rindex()"
      ],
      "metadata": {
        "id": "qIiH0bSTW9XX"
      }
    },
    {
      "cell_type": "markdown",
      "source": [
        "1) find()"
      ],
      "metadata": {
        "id": "i4vYBNQ2YGPP"
      }
    },
    {
      "cell_type": "code",
      "source": [
        "# find(): Returns index of first occurrence of the given substring. If it is not available then we will\n",
        "# get -1.\n",
        "s=\"Everything will come to you at the perfect time\"\n",
        "s.find(\"at\") #28th index\n"
      ],
      "metadata": {
        "colab": {
          "base_uri": "https://localhost:8080/"
        },
        "id": "dTt4fv8oW5-t",
        "outputId": "5abbf98d-0564-4aa1-ba8a-d99dce30516b"
      },
      "execution_count": 183,
      "outputs": [
        {
          "output_type": "execute_result",
          "data": {
            "text/plain": [
              "28"
            ]
          },
          "metadata": {},
          "execution_count": 183
        }
      ]
    },
    {
      "cell_type": "code",
      "source": [
        "s.find('t')"
      ],
      "metadata": {
        "id": "uYbx7o25Fdzn",
        "outputId": "7611c372-de90-4935-e3b5-4ae58c728387",
        "colab": {
          "base_uri": "https://localhost:8080/"
        }
      },
      "execution_count": 185,
      "outputs": [
        {
          "output_type": "execute_result",
          "data": {
            "text/plain": [
              "5"
            ]
          },
          "metadata": {},
          "execution_count": 185
        }
      ]
    },
    {
      "cell_type": "code",
      "source": [
        "# syntax: s.find(substring,bEgin,end)\n",
        "s.find(\"a\",1,4)"
      ],
      "metadata": {
        "colab": {
          "base_uri": "https://localhost:8080/"
        },
        "id": "MtV_tZGyXo2_",
        "outputId": "42fe2791-ee48-4a66-ee11-10d3518bbf1f"
      },
      "execution_count": 184,
      "outputs": [
        {
          "output_type": "execute_result",
          "data": {
            "text/plain": [
              "-1"
            ]
          },
          "metadata": {},
          "execution_count": 184
        }
      ]
    },
    {
      "cell_type": "markdown",
      "source": [
        "2)index()\n",
        "\n",
        "index() method is exactly same as find() method except that if the specified substring is\n",
        " not available then we will get ValueError."
      ],
      "metadata": {
        "id": "KOKD5UhxYIuA"
      }
    },
    {
      "cell_type": "code",
      "source": [
        "# we will get a error if the substring is not available\n",
        "s.index('b')"
      ],
      "metadata": {
        "colab": {
          "base_uri": "https://localhost:8080/",
          "height": 502
        },
        "id": "R8C3rm4AYBCF",
        "outputId": "6d330370-8e17-485b-aa0c-d5da86da9ba7"
      },
      "execution_count": 187,
      "outputs": [
        {
          "output_type": "error",
          "ename": "ValueError",
          "evalue": "ignored",
          "traceback": [
            "\u001b[0;31m---------------------------------------------------------------------------\u001b[0m",
            "\u001b[0;31mValueError\u001b[0m                                Traceback (most recent call last)",
            "\u001b[0;32m<ipython-input-187-f77767803930>\u001b[0m in \u001b[0;36m<module>\u001b[0;34m()\u001b[0m\n\u001b[1;32m      1\u001b[0m \u001b[0;31m# we will get a error if the substring is not available\u001b[0m\u001b[0;34m\u001b[0m\u001b[0;34m\u001b[0m\u001b[0;34m\u001b[0m\u001b[0m\n\u001b[0;32m----> 2\u001b[0;31m \u001b[0ms\u001b[0m\u001b[0;34m.\u001b[0m\u001b[0mindex\u001b[0m\u001b[0;34m(\u001b[0m\u001b[0;34m'b'\u001b[0m\u001b[0;34m)\u001b[0m\u001b[0;34m\u001b[0m\u001b[0;34m\u001b[0m\u001b[0m\n\u001b[0m",
            "\u001b[0;31mValueError\u001b[0m: substring not found"
          ]
        }
      ]
    },
    {
      "cell_type": "code",
      "source": [
        "s.index('o')"
      ],
      "metadata": {
        "colab": {
          "base_uri": "https://localhost:8080/"
        },
        "id": "Z9dHJvMAYZG3",
        "outputId": "8b76e71b-9d77-4cae-fab2-021768b0269d"
      },
      "execution_count": 189,
      "outputs": [
        {
          "output_type": "execute_result",
          "data": {
            "text/plain": [
              "17"
            ]
          },
          "metadata": {},
          "execution_count": 189
        }
      ]
    },
    {
      "cell_type": "markdown",
      "source": [
        "  Q) Program to display all Positions of Substring in a given\n",
        "  Main String"
      ],
      "metadata": {
        "id": "H2CWlc3NY25I"
      }
    },
    {
      "cell_type": "code",
      "source": [
        "s=input(\"Entermainstring:\")\n",
        "subs=input(\"Entersubstring:\")\n",
        "flag=False\n",
        "pos=-1\n",
        "n=len(s)\n",
        "while True:\n",
        "  pos=s.find(subs,pos+1,n)\n",
        "  if pos==-1:\n",
        "    break\n",
        "  print(\"Found at position\",pos)\n",
        "  flag=True\n",
        "if flag==False:\n",
        "  print(\"Not Found\")"
      ],
      "metadata": {
        "colab": {
          "base_uri": "https://localhost:8080/"
        },
        "id": "hr6XgsrZYk0y",
        "outputId": "57330579-7330-49b3-9680-f7a6b2552cf0"
      },
      "execution_count": 191,
      "outputs": [
        {
          "output_type": "stream",
          "name": "stdout",
          "text": [
            "Entermainstring:Dhdgjhgkhdhgdjgjdhgjhghfjjdjhfhhd\n",
            "Entersubstring:j\n",
            "Found at position 4\n",
            "Found at position 13\n",
            "Found at position 15\n",
            "Found at position 19\n",
            "Found at position 24\n",
            "Found at position 25\n",
            "Found at position 27\n"
          ]
        }
      ]
    },
    {
      "cell_type": "code",
      "source": [
        "s=input(\"Entermainstring:\")\n",
        "subs=input(\"Entersubstring:\")\n",
        "flag=False\n",
        "pos=-1\n",
        "n=len(s)\n",
        "while True:\n",
        "  pos=s.find(subs,pos+1,n)\n",
        "  if pos==-1:\n",
        "    break\n",
        "  print(\"Found at position\",pos)\n",
        "  flag=True\n",
        "if flag==False:\n",
        "  print(\"Not Found\")\n",
        "  "
      ],
      "metadata": {
        "id": "ASVpdYcYGF2u",
        "outputId": "29f12c9b-22f5-47cb-943d-f0fc6ea8ecfd",
        "colab": {
          "base_uri": "https://localhost:8080/"
        }
      },
      "execution_count": 279,
      "outputs": [
        {
          "output_type": "stream",
          "name": "stdout",
          "text": [
            "Entermainstring:354422585255345154556252247\n",
            "Entersubstring:5\n",
            "Found at position 1\n",
            "Found at position 6\n",
            "Found at position 8\n",
            "Found at position 10\n",
            "Found at position 11\n",
            "Found at position 14\n",
            "Found at position 16\n",
            "Found at position 18\n",
            "Found at position 19\n",
            "Found at position 22\n"
          ]
        }
      ]
    },
    {
      "cell_type": "markdown",
      "source": [
        "# #***Count substring in the given String:***"
      ],
      "metadata": {
        "id": "Y8-B0nJUYt79"
      }
    },
    {
      "cell_type": "code",
      "source": [
        "s=\"abcabcabcabcadda\"#s.count(substring,bEging,end-1)\n",
        "print(s.count('a'))"
      ],
      "metadata": {
        "colab": {
          "base_uri": "https://localhost:8080/"
        },
        "id": "U7aBM_9HZNQp",
        "outputId": "7a1c7bae-9e5e-4b31-a092-74b101044e8e"
      },
      "execution_count": 278,
      "outputs": [
        {
          "output_type": "stream",
          "name": "stdout",
          "text": [
            "6\n"
          ]
        }
      ]
    },
    {
      "cell_type": "code",
      "source": [
        "s=\"5247586322856638709632687\"\n",
        "print(s.count('6'))"
      ],
      "metadata": {
        "id": "hK-oOXcxaB9E",
        "outputId": "f59e8384-f3c8-47e2-c464-1ebce5c9a06d",
        "colab": {
          "base_uri": "https://localhost:8080/"
        }
      },
      "execution_count": 277,
      "outputs": [
        {
          "output_type": "stream",
          "name": "stdout",
          "text": [
            "5\n"
          ]
        }
      ]
    },
    {
      "cell_type": "code",
      "source": [
        "print(s.count('2'))"
      ],
      "metadata": {
        "id": "pwqPs0n8XpXN",
        "outputId": "40b67424-7c0f-4fe3-b85b-1294797a4cae",
        "colab": {
          "base_uri": "https://localhost:8080/"
        }
      },
      "execution_count": 276,
      "outputs": [
        {
          "output_type": "stream",
          "name": "stdout",
          "text": [
            "4\n"
          ]
        }
      ]
    },
    {
      "cell_type": "markdown",
      "source": [
        "# Replacing a String with another String:\n",
        "\n",
        " "
      ],
      "metadata": {
        "id": "akf_gTC3aGSB"
      }
    },
    {
      "cell_type": "code",
      "source": [
        "s= \" if you haven't found it plz keep looking \"\n",
        "y= s.replace(\"plz\",\"yet\")\n",
        "print(y)"
      ],
      "metadata": {
        "colab": {
          "base_uri": "https://localhost:8080/"
        },
        "id": "O5tuvEdiaROa",
        "outputId": "d71ed086-527f-4fea-df86-69e0b5f9179b"
      },
      "execution_count": 264,
      "outputs": [
        {
          "output_type": "stream",
          "name": "stdout",
          "text": [
            " if you haven't found it yet keep looking \n"
          ]
        }
      ]
    },
    {
      "cell_type": "markdown",
      "source": [
        "# Splitting of Strings:\n",
        "\n",
        "\n",
        "Syntax:\n",
        "l = s.split(seperator)\n"
      ],
      "metadata": {
        "id": "LovtgoXbaqVg"
      }
    },
    {
      "cell_type": "code",
      "source": [
        "s=\"11/12/1997\"\n",
        "l=s.split('/')\n",
        "for x in l:\n",
        "  print(x)"
      ],
      "metadata": {
        "colab": {
          "base_uri": "https://localhost:8080/"
        },
        "id": "KbbkH6-Sa2fJ",
        "outputId": "8e0d91a2-5ff9-4114-fd31-7aa57ff26098"
      },
      "execution_count": 209,
      "outputs": [
        {
          "output_type": "stream",
          "name": "stdout",
          "text": [
            "11\n",
            "12\n",
            "1997\n"
          ]
        }
      ]
    },
    {
      "cell_type": "code",
      "source": [
        "l"
      ],
      "metadata": {
        "colab": {
          "base_uri": "https://localhost:8080/"
        },
        "id": "xOJlj7oaa_1r",
        "outputId": "492e20a0-bfdd-4ddc-c943-12ba6860b50e"
      },
      "execution_count": 210,
      "outputs": [
        {
          "output_type": "execute_result",
          "data": {
            "text/plain": [
              "['11', '12', '1997']"
            ]
          },
          "metadata": {},
          "execution_count": 210
        }
      ]
    },
    {
      "cell_type": "markdown",
      "source": [
        "#  Joining Of Strings:\n",
        "\n",
        "s = seperator.join(group of strings)"
      ],
      "metadata": {
        "id": "LWomjGZUbGXJ"
      }
    },
    {
      "cell_type": "code",
      "source": [
        "list=['11','12','1997','sushil','yeotiwad']\n",
        "\":\".join(list)"
      ],
      "metadata": {
        "id": "oqBUtruVIUdT",
        "outputId": "4f6e42e3-18ef-4047-cad5-40fefb1faa0c",
        "colab": {
          "base_uri": "https://localhost:8080/",
          "height": 35
        }
      },
      "execution_count": 211,
      "outputs": [
        {
          "output_type": "execute_result",
          "data": {
            "text/plain": [
              "'11:12:1997:sushil:yeotiwad'"
            ],
            "application/vnd.google.colaboratory.intrinsic+json": {
              "type": "string"
            }
          },
          "metadata": {},
          "execution_count": 211
        }
      ]
    },
    {
      "cell_type": "code",
      "source": [
        "list1= [\"data\",\"science\",\"ai\"]\n",
        "\"-\".join(list1)"
      ],
      "metadata": {
        "colab": {
          "base_uri": "https://localhost:8080/",
          "height": 35
        },
        "id": "6Rphk2ZlbDOQ",
        "outputId": "881248f9-b4b0-475d-d21d-22145dca9f80"
      },
      "execution_count": 212,
      "outputs": [
        {
          "output_type": "execute_result",
          "data": {
            "text/plain": [
              "'data-science-ai'"
            ],
            "application/vnd.google.colaboratory.intrinsic+json": {
              "type": "string"
            }
          },
          "metadata": {},
          "execution_count": 212
        }
      ]
    },
    {
      "cell_type": "markdown",
      "source": [
        "#  Changing the case of a string:\n",
        "\n",
        "\n"
      ],
      "metadata": {
        "id": "-EseZOFEbsrS"
      }
    },
    {
      "cell_type": "code",
      "source": [
        "s = \"Result of hard work has no full stop\" #changing the case of a string in some characters\n",
        "print(s.upper())\n",
        "print(s.lower())\n",
        "print(s.swapcase())\n",
        "print(s.title())\n",
        "print(s.capitalize())"
      ],
      "metadata": {
        "colab": {
          "base_uri": "https://localhost:8080/"
        },
        "id": "J_Espju9bkOF",
        "outputId": "b7871e02-bcff-44e1-943a-5a8343a145f7"
      },
      "execution_count": 213,
      "outputs": [
        {
          "output_type": "stream",
          "name": "stdout",
          "text": [
            "RESULT OF HARD WORK HAS NO FULL STOP\n",
            "result of hard work has no full stop\n",
            "rESULT OF HARD WORK HAS NO FULL STOP\n",
            "Result Of Hard Work Has No Full Stop\n",
            "Result of hard work has no full stop\n"
          ]
        }
      ]
    },
    {
      "cell_type": "markdown",
      "source": [
        "# Checking Starting and Ending Part of the String:\n",
        "\n",
        " Python contains the following methods for this purpose.\n",
        "\n",
        "s.startswith(substring)\n",
        "\n",
        " s.endswith(substring)"
      ],
      "metadata": {
        "id": "pZl06Qc6cTiH"
      }
    },
    {
      "cell_type": "code",
      "source": [
        "s = \"Result of hard work has no full stop\"\n",
        "print(s.startswith('Result'))\n",
        "print(s.endswith('full'))\n",
        "print(s.endswith('stop'))"
      ],
      "metadata": {
        "colab": {
          "base_uri": "https://localhost:8080/"
        },
        "id": "n5RwI_shcH69",
        "outputId": "66f2c7c3-6a12-413a-e212-c7336f8aa847"
      },
      "execution_count": 214,
      "outputs": [
        {
          "output_type": "stream",
          "name": "stdout",
          "text": [
            "True\n",
            "False\n",
            "True\n"
          ]
        }
      ]
    },
    {
      "cell_type": "markdown",
      "source": [
        "#   To Check Type of Characters Present in a String:\n",
        "\n",
        "Python contains the following methods for this purpose.\n",
        "\n",
        "isalnum(): Returns True if all characters are alphanumeric( a to z , A to Z ,0 to9 ).\n",
        " \n",
        "isalpha(): Returns True if all characters are only alphabet symbols(a to z,A to Z)\n",
        "\n",
        "isdigit(): Returns True if all characters are digits only( 0 to 9)\n",
        "\n",
        "islower(): Returns True if all characters are lower case alphabet symbols\n",
        " \n",
        "isupper(): Returns True if all characters are upper case aplhabet symbols\n",
        "\n",
        "istitle(): Returns True if string is in title case\n",
        "\n",
        "isspace(): Returns True if string contains only spaces"
      ],
      "metadata": {
        "id": "4XEfkoiWckuB"
      }
    },
    {
      "cell_type": "code",
      "source": [
        "print('sushily1997'.isalnum()) # True"
      ],
      "metadata": {
        "colab": {
          "base_uri": "https://localhost:8080/"
        },
        "id": "nXH9KmFicgrs",
        "outputId": "730da945-671b-4310-ee1a-f0d4a87d0329"
      },
      "execution_count": 215,
      "outputs": [
        {
          "output_type": "stream",
          "name": "stdout",
          "text": [
            "True\n"
          ]
        }
      ]
    },
    {
      "cell_type": "code",
      "source": [
        "print('sushil1'.isalpha())#False"
      ],
      "metadata": {
        "id": "vCrMRhjZKW1C",
        "outputId": "4dfde0a9-161b-49c7-ed2a-f8b8d0a4a456",
        "colab": {
          "base_uri": "https://localhost:8080/"
        }
      },
      "execution_count": 218,
      "outputs": [
        {
          "output_type": "stream",
          "name": "stdout",
          "text": [
            "False\n"
          ]
        }
      ]
    },
    {
      "cell_type": "code",
      "source": [
        "print('123'.isdigit())# True"
      ],
      "metadata": {
        "id": "kM9fjl1oK6pf",
        "outputId": "4fb79bef-6fab-43e0-f2a9-58aadddd10e2",
        "colab": {
          "base_uri": "https://localhost:8080/"
        }
      },
      "execution_count": 221,
      "outputs": [
        {
          "output_type": "stream",
          "name": "stdout",
          "text": [
            "True\n"
          ]
        }
      ]
    },
    {
      "cell_type": "code",
      "source": [
        "print('ABc'.islower()) #False"
      ],
      "metadata": {
        "colab": {
          "base_uri": "https://localhost:8080/"
        },
        "id": "bfiAo7zCc69b",
        "outputId": "d58b86fb-a4b5-451d-82d7-1dd915342087"
      },
      "execution_count": 216,
      "outputs": [
        {
          "output_type": "stream",
          "name": "stdout",
          "text": [
            "False\n"
          ]
        }
      ]
    },
    {
      "cell_type": "code",
      "source": [
        "print('ABMHY'.isupper())#True"
      ],
      "metadata": {
        "id": "kSAkEuSLLX3H",
        "outputId": "bede0f8d-a1ca-4ba6-fa60-3f7a25a7d6b3",
        "colab": {
          "base_uri": "https://localhost:8080/"
        }
      },
      "execution_count": 222,
      "outputs": [
        {
          "output_type": "stream",
          "name": "stdout",
          "text": [
            "True\n"
          ]
        }
      ]
    },
    {
      "cell_type": "code",
      "source": [
        "print('Learning Python Is Easy'.istitle()) #True"
      ],
      "metadata": {
        "colab": {
          "base_uri": "https://localhost:8080/"
        },
        "id": "GvJ97IICc_jV",
        "outputId": "569cb354-44c1-4d30-ff29-32a7f5e993b7"
      },
      "execution_count": 260,
      "outputs": [
        {
          "output_type": "stream",
          "name": "stdout",
          "text": [
            "True\n"
          ]
        }
      ]
    },
    {
      "cell_type": "code",
      "source": [
        "print('Hello bro'.isspace())#Flase"
      ],
      "metadata": {
        "id": "29g9EFZMLyEf",
        "outputId": "39b051ca-5630-40a6-d3c4-4760c0777978",
        "colab": {
          "base_uri": "https://localhost:8080/"
        }
      },
      "execution_count": 261,
      "outputs": [
        {
          "output_type": "stream",
          "name": "stdout",
          "text": [
            "False\n"
          ]
        }
      ]
    },
    {
      "cell_type": "code",
      "source": [
        "print('Hellobro'.isspace())#Flase"
      ],
      "metadata": {
        "id": "8SSMsFRmMHNd",
        "outputId": "bad789fa-43f6-4f9c-9f2a-7daa98352291",
        "colab": {
          "base_uri": "https://localhost:8080/"
        }
      },
      "execution_count": 262,
      "outputs": [
        {
          "output_type": "stream",
          "name": "stdout",
          "text": [
            "False\n"
          ]
        }
      ]
    },
    {
      "cell_type": "code",
      "source": [
        "print(' '.isspace())#True"
      ],
      "metadata": {
        "id": "1-RjmqdhMXuB",
        "outputId": "a0b6152c-3afc-4fd7-ca18-05d068e7f349",
        "colab": {
          "base_uri": "https://localhost:8080/"
        }
      },
      "execution_count": 263,
      "outputs": [
        {
          "output_type": "stream",
          "name": "stdout",
          "text": [
            "True\n"
          ]
        }
      ]
    },
    {
      "cell_type": "markdown",
      "source": [
        "#  Formatting the Strings:\n",
        "  "
      ],
      "metadata": {
        "id": "ddeaIft_dRpE"
      }
    },
    {
      "cell_type": "code",
      "source": [
        "name='mayur' #using replacement operator {} and format() method.\n",
        "Friend='rahul'\n",
        "xclass=8\n",
        "print(\"{} close friend {} He also {} class.\".format(name,Friend,xclass))\n",
        "print(\"{0} close friend {1} He also {2} class.\".format(name,Friend,xclass))\n",
        "print(\"{x} close friend {y} He also {z} class.\".format(z=xclass,y=Friend,x=name))"
      ],
      "metadata": {
        "colab": {
          "base_uri": "https://localhost:8080/"
        },
        "id": "gNN3BEdwdEXv",
        "outputId": "e6e15620-3eec-44a4-d096-7e050c55f364"
      },
      "execution_count": 247,
      "outputs": [
        {
          "output_type": "stream",
          "name": "stdout",
          "text": [
            "mayur close friend rahul He also 8 class.\n",
            "mayur close friend rahul He also 8 class.\n",
            "mayur close friend rahul He also 8 class.\n"
          ]
        }
      ]
    },
    {
      "cell_type": "markdown",
      "source": [
        "  Q1) Write a Program to Reverse the given String"
      ],
      "metadata": {
        "id": "MWmKU6sLd0zJ"
      }
    },
    {
      "cell_type": "code",
      "source": [
        "s=input(\"EnterSomeString:\")\n",
        "print(s[::-1])"
      ],
      "metadata": {
        "colab": {
          "base_uri": "https://localhost:8080/"
        },
        "id": "REjHkC7Ud47x",
        "outputId": "38bf58fd-f6a7-4a3e-ec97-dde56826a915"
      },
      "execution_count": 248,
      "outputs": [
        {
          "output_type": "stream",
          "name": "stdout",
          "text": [
            "EnterSomeString:Sushil\n",
            "lihsuS\n"
          ]
        }
      ]
    },
    {
      "cell_type": "code",
      "source": [
        "y=input(\"EnterSomeString:\")\n",
        "print(y[::-2])"
      ],
      "metadata": {
        "id": "fruR7CJcRZ7V",
        "outputId": "64fcef30-3687-40c6-9f3d-ce82d8df76e3",
        "colab": {
          "base_uri": "https://localhost:8080/"
        }
      },
      "execution_count": 249,
      "outputs": [
        {
          "output_type": "stream",
          "name": "stdout",
          "text": [
            "EnterSomeString:Maharashtra\n",
            "atsrhM\n"
          ]
        }
      ]
    },
    {
      "cell_type": "code",
      "source": [
        "s= 'Maharashtra'\n",
        "''.join(reversed(s))"
      ],
      "metadata": {
        "colab": {
          "base_uri": "https://localhost:8080/",
          "height": 35
        },
        "id": "02gX4Zjhd_fi",
        "outputId": "35e07497-911c-4e22-bd86-c6956fe8727b"
      },
      "execution_count": 250,
      "outputs": [
        {
          "output_type": "execute_result",
          "data": {
            "text/plain": [
              "'arthsarahaM'"
            ],
            "application/vnd.google.colaboratory.intrinsic+json": {
              "type": "string"
            }
          },
          "metadata": {},
          "execution_count": 250
        }
      ]
    },
    {
      "cell_type": "markdown",
      "source": [
        "Q2) Program to Reverse Order of Words\n",
        "\n",
        "Input: Learning Python is very Easy\n",
        "\n",
        " Output: Easy Very is Python Learning"
      ],
      "metadata": {
        "id": "DNUdFXYueS_S"
      }
    },
    {
      "cell_type": "code",
      "source": [
        "s='Yeotiwad sushil'\n",
        "l=s.split()\n",
        "l1=[]\n",
        "i=len(l)-1\n",
        "while i>=0:\n",
        "  l1.append(l[i])\n",
        "  i=i-1\n",
        "output=' '.join(l1)\n",
        "print(output)"
      ],
      "metadata": {
        "colab": {
          "base_uri": "https://localhost:8080/"
        },
        "id": "WB_PIZbYeMnH",
        "outputId": "1322fbfb-ca21-4358-e81e-78646ca3b574"
      },
      "execution_count": 252,
      "outputs": [
        {
          "output_type": "stream",
          "name": "stdout",
          "text": [
            "sushil Yeotiwad\n"
          ]
        }
      ]
    },
    {
      "cell_type": "markdown",
      "source": [
        "Q3) Write a Program to Remove Duplicate Characters from\n",
        "  the given Input String?\n",
        "\n",
        "  Input: ABCDABBCDABBBCCCDDEEEF\n",
        "\n",
        " Output: ABCDEF"
      ],
      "metadata": {
        "id": "vrdDnTxIf_cW"
      }
    },
    {
      "cell_type": "code",
      "source": [
        "s=input(\"EnterSomeString:\")\n",
        "l=[]\n",
        "for x in s:\n",
        "  if x not in l:\n",
        "     l.append(x)\n",
        "output=''.join(l)\n",
        "print(output)"
      ],
      "metadata": {
        "colab": {
          "base_uri": "https://localhost:8080/"
        },
        "id": "CwcGA_teeqdf",
        "outputId": "7d0c273e-f72e-4444-f54a-ced6eb3c239c"
      },
      "execution_count": 253,
      "outputs": [
        {
          "output_type": "stream",
          "name": "stdout",
          "text": [
            "EnterSomeString:sushil sushil yeotiwad sushil yeotiwad 1997 1997 sushil 1997\n",
            "suhil yeotwad197\n"
          ]
        }
      ]
    },
    {
      "cell_type": "markdown",
      "source": [
        "Q4) Write a Program to find the Number of Occurrences of\n",
        "each Character present in the given String?\n",
        "\n",
        "Input: ABCABCABBCDE\n",
        "\n",
        "Output: A-3,B-4,C-3,D-1,E-1"
      ],
      "metadata": {
        "id": "f_z82qj7gaKq"
      }
    },
    {
      "cell_type": "code",
      "source": [
        "s=input(\"Enter Some String:\")\n",
        "d={}!\n",
        "for x in s:\n",
        "  if x in d.keys():\n",
        "     d[x]=d[x]+1\n",
        "  else:\n",
        "     d[x]=1\n",
        "for k,v in d.items():\n",
        "   print(\"{} = {} Times\".format(k,v))"
      ],
      "metadata": {
        "colab": {
          "base_uri": "https://localhost:8080/"
        },
        "id": "sVkAtNRwgQ_b",
        "outputId": "cd52042a-3137-4e7f-cff0-d1d2bed598a4"
      },
      "execution_count": 257,
      "outputs": [
        {
          "output_type": "stream",
          "name": "stdout",
          "text": [
            "Enter Some String:227722584734465525851555\n",
            "2 = 5 Times\n",
            "7 = 3 Times\n",
            "5 = 8 Times\n",
            "8 = 2 Times\n",
            "4 = 3 Times\n",
            "3 = 1 Times\n",
            "6 = 1 Times\n",
            "1 = 1 Times\n"
          ]
        }
      ]
    },
    {
      "cell_type": "code",
      "source": [
        "s=input('Enter Some String')\n",
        "d={}\n",
        "for x in s:\n",
        "  if x in d.keys():\n",
        "     d[x]=d[x]+1\n",
        "  else:\n",
        "     d[x]=1\n",
        "     print(d)"
      ],
      "metadata": {
        "id": "j6HOTI2Fg6vj",
        "outputId": "c3e93e61-9035-4096-f3d3-a8e21a9ec721",
        "colab": {
          "base_uri": "https://localhost:8080/"
        }
      },
      "execution_count": 258,
      "outputs": [
        {
          "output_type": "stream",
          "name": "stdout",
          "text": [
            "Enter Some String335763566367\n",
            "{'3': 1}\n",
            "{'3': 2, '5': 1}\n",
            "{'3': 2, '5': 1, '7': 1}\n",
            "{'3': 2, '5': 1, '7': 1, '6': 1}\n"
          ]
        }
      ]
    },
    {
      "cell_type": "code",
      "source": [
        "d"
      ],
      "metadata": {
        "colab": {
          "base_uri": "https://localhost:8080/"
        },
        "id": "6_K1WMOMiFZ6",
        "outputId": "08edbf02-162d-4851-b4cf-e422814fd34b"
      },
      "execution_count": 259,
      "outputs": [
        {
          "output_type": "execute_result",
          "data": {
            "text/plain": [
              "{'3': 4, '5': 2, '6': 4, '7': 2}"
            ]
          },
          "metadata": {},
          "execution_count": 259
        }
      ]
    },
    {
      "cell_type": "code",
      "source": [
        ""
      ],
      "metadata": {
        "id": "pnshfeFWiGWL"
      },
      "execution_count": null,
      "outputs": []
    }
  ]
}